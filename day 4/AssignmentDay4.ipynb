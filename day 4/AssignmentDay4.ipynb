{
  "nbformat": 4,
  "nbformat_minor": 0,
  "metadata": {
    "colab": {
      "name": "AssignmentDay4.ipynb",
      "provenance": [],
      "collapsed_sections": []
    },
    "kernelspec": {
      "name": "python3",
      "display_name": "Python 3"
    }
  },
  "cells": [
    {
      "cell_type": "markdown",
      "metadata": {
        "id": "IJMnUqK0ubm4",
        "colab_type": "text"
      },
      "source": [
        "**Question 1:**\n",
        "Research on whether addition, subtraction, multiplication, division, floor division and modulo\n",
        "operations be performed on complex numbers. Based on your study, implement a Python\n",
        "program to demonstrate these operations."
      ]
    },
    {
      "cell_type": "code",
      "metadata": {
        "id": "P3zxo-Plu36Y",
        "colab_type": "code",
        "colab": {
          "base_uri": "https://localhost:8080/",
          "height": 299
        },
        "outputId": "143fdec3-2ea6-4628-d4b9-7921169a2e7c"
      },
      "source": [
        "#complex number\n",
        "x1=7+3j\n",
        "x2=9+4j\n",
        "\n",
        "#addition \n",
        "x3=x1+x2\n",
        "print(\"addition of two complex no:\",x3)\n",
        "\n",
        "#substraction\n",
        "x3=x1-x2\n",
        "print(\"substraction of two complex no:\",x3)\n",
        "\n",
        "#multiplication\n",
        "x3=x1*x2\n",
        "print(\"multiplication of two complex no:\",x3)\n",
        "\n",
        "#division\n",
        "x3=x1/x2\n",
        "print(\"division of two complex no:\",x3)\n",
        "\n",
        "#floor division\n",
        "x3=x1//x2\n",
        "print(\"floor divsion of two complex no:\",x3)#can't take floor divsion of complex number\n",
        "\n",
        "#modulo\n",
        "x3=x1%x2\n",
        "print(\"modulo of two complex no:\",x3)#can't take modulo of complex number\n",
        "\n",
        "\n",
        "\n"
      ],
      "execution_count": 8,
      "outputs": [
        {
          "output_type": "stream",
          "text": [
            "addition of two complex no: (16+7j)\n",
            "substraction of two complex no: (-2-1j)\n",
            "multiplication of two complex no: (51+55j)\n",
            "division of two complex no: (0.7731958762886598-0.010309278350515427j)\n"
          ],
          "name": "stdout"
        },
        {
          "output_type": "error",
          "ename": "TypeError",
          "evalue": "ignored",
          "traceback": [
            "\u001b[0;31m---------------------------------------------------------------------------\u001b[0m",
            "\u001b[0;31mTypeError\u001b[0m                                 Traceback (most recent call last)",
            "\u001b[0;32m<ipython-input-8-8b560e0fef82>\u001b[0m in \u001b[0;36m<module>\u001b[0;34m()\u001b[0m\n\u001b[1;32m     20\u001b[0m \u001b[0;34m\u001b[0m\u001b[0m\n\u001b[1;32m     21\u001b[0m \u001b[0;31m#floor division\u001b[0m\u001b[0;34m\u001b[0m\u001b[0;34m\u001b[0m\u001b[0;34m\u001b[0m\u001b[0m\n\u001b[0;32m---> 22\u001b[0;31m \u001b[0mx3\u001b[0m\u001b[0;34m=\u001b[0m\u001b[0mx1\u001b[0m\u001b[0;34m//\u001b[0m\u001b[0mx2\u001b[0m\u001b[0;34m\u001b[0m\u001b[0;34m\u001b[0m\u001b[0m\n\u001b[0m\u001b[1;32m     23\u001b[0m \u001b[0mprint\u001b[0m\u001b[0;34m(\u001b[0m\u001b[0;34m\"floor divsion of two complex no:\"\u001b[0m\u001b[0;34m,\u001b[0m\u001b[0mx3\u001b[0m\u001b[0;34m)\u001b[0m\u001b[0;31m#can't take floor divsion of complex number\u001b[0m\u001b[0;34m\u001b[0m\u001b[0;34m\u001b[0m\u001b[0m\n\u001b[1;32m     24\u001b[0m \u001b[0;34m\u001b[0m\u001b[0m\n",
            "\u001b[0;31mTypeError\u001b[0m: can't take floor of complex number."
          ]
        }
      ]
    },
    {
      "cell_type": "markdown",
      "metadata": {
        "id": "g0dvzTqowmuq",
        "colab_type": "text"
      },
      "source": [
        "**Question 2 :**\n",
        "Research on range() functions and its parameters. Create a markdown cell and write in your own\n",
        "words (no copy-paste from google please) what you understand about it. Implement a small\n",
        "program of your choice on the same.\n"
      ]
    },
    {
      "cell_type": "markdown",
      "metadata": {
        "id": "GQBLfsB0yFqb",
        "colab_type": "text"
      },
      "source": [
        "#range() functions:The range() function is used to generate sequence of function \n",
        "#i.e start,end,step\n",
        "range(start,end,step)\n",
        "\n",
        "\n"
      ]
    },
    {
      "cell_type": "code",
      "metadata": {
        "id": "6OhBgcJ9wybZ",
        "colab_type": "code",
        "colab": {
          "base_uri": "https://localhost:8080/",
          "height": 119
        },
        "outputId": "122b1e19-37f5-4492-c38b-ed7f8e5dfe18"
      },
      "source": [
        "x=range(6)\n",
        "for n in x:\n",
        "  print(n)"
      ],
      "execution_count": 9,
      "outputs": [
        {
          "output_type": "stream",
          "text": [
            "0\n",
            "1\n",
            "2\n",
            "3\n",
            "4\n",
            "5\n"
          ],
          "name": "stdout"
        }
      ]
    },
    {
      "cell_type": "code",
      "metadata": {
        "id": "prn-ITmNxv3M",
        "colab_type": "code",
        "colab": {
          "base_uri": "https://localhost:8080/",
          "height": 119
        },
        "outputId": "edb87feb-e5f1-4b24-f6d9-67f1eee9591d"
      },
      "source": [
        "a=range(4,10,1)\n",
        "for n in a:\n",
        "  print(n)\n"
      ],
      "execution_count": 11,
      "outputs": [
        {
          "output_type": "stream",
          "text": [
            "4\n",
            "5\n",
            "6\n",
            "7\n",
            "8\n",
            "9\n"
          ],
          "name": "stdout"
        }
      ]
    },
    {
      "cell_type": "markdown",
      "metadata": {
        "id": "vW5Nkyi1zTjS",
        "colab_type": "text"
      },
      "source": [
        "**Question 3:**\n",
        " Consider two numbers. Perform their subtraction and if the result of subtraction is greater than\n",
        "25, print their multiplication result else print their division result.\n"
      ]
    },
    {
      "cell_type": "code",
      "metadata": {
        "id": "MRcFiWZLzcw4",
        "colab_type": "code",
        "colab": {
          "base_uri": "https://localhost:8080/",
          "height": 68
        },
        "outputId": "70db7581-40b1-436b-bad2-59575390334c"
      },
      "source": [
        "a=int(input(\"enter 1st number:\"))\n",
        "b=int(input(\"enter 2nd number:\"))\n",
        "x=a-b\n",
        "if x>25:\n",
        "  print(\"multiplication result:\",a*b)\n",
        "else:\n",
        "  print(\"division result:\",a/b)"
      ],
      "execution_count": 12,
      "outputs": [
        {
          "output_type": "stream",
          "text": [
            "enter 1st number:67\n",
            "enter 2nd number:5\n",
            "multiplication result: 335\n"
          ],
          "name": "stdout"
        }
      ]
    },
    {
      "cell_type": "markdown",
      "metadata": {
        "id": "XXnzscyE0jBw",
        "colab_type": "text"
      },
      "source": [
        "**Question 4:**\n",
        "Consider a list of 10 elements of integer values. If the number in the list is divisible by 2, print the\n",
        "result as \"square of that number minus 2\".\n"
      ]
    },
    {
      "cell_type": "code",
      "metadata": {
        "id": "GnrGqJNY0ofi",
        "colab_type": "code",
        "colab": {
          "base_uri": "https://localhost:8080/",
          "height": 102
        },
        "outputId": "f820ab24-8ccf-45fa-d64a-0d5e785c0fa7"
      },
      "source": [
        "lst=[1,2,3,4,5,6,7,8,9,10]\n",
        "for i in lst:\n",
        "  if i%2==0:\n",
        "     print(\"square of that number minus 2:\".format(i)+str(i**2-2))"
      ],
      "execution_count": 13,
      "outputs": [
        {
          "output_type": "stream",
          "text": [
            "square of that number minus 2:2\n",
            "square of that number minus 2:14\n",
            "square of that number minus 2:34\n",
            "square of that number minus 2:62\n",
            "square of that number minus 2:98\n"
          ],
          "name": "stdout"
        }
      ]
    },
    {
      "cell_type": "markdown",
      "metadata": {
        "id": "svrk1MpR1602",
        "colab_type": "text"
      },
      "source": [
        "**Question 5:**\n",
        "Consider a list of 10 elements. Print all the elements in the list which are greater than 7 when that\n",
        "number is divided 2."
      ]
    },
    {
      "cell_type": "code",
      "metadata": {
        "id": "Tr8Om5zM2Aw2",
        "colab_type": "code",
        "colab": {
          "base_uri": "https://localhost:8080/",
          "height": 136
        },
        "outputId": "95ee7b5c-abfd-4e99-8237-4a1ea81c9b15"
      },
      "source": [
        "lst=[12,14,16,17,19,20,22,23,24]\n",
        "for i in lst:\n",
        "  if(i/2) > 7:\n",
        "    print(\"divsion of \",i,\"divided by 2 and is greater then 7\")"
      ],
      "execution_count": 19,
      "outputs": [
        {
          "output_type": "stream",
          "text": [
            "divsion of  16 divided by 2 and is greater then 7\n",
            "divsion of  17 divided by 2 and is greater then 7\n",
            "divsion of  19 divided by 2 and is greater then 7\n",
            "divsion of  20 divided by 2 and is greater then 7\n",
            "divsion of  22 divided by 2 and is greater then 7\n",
            "divsion of  23 divided by 2 and is greater then 7\n",
            "divsion of  24 divided by 2 and is greater then 7\n"
          ],
          "name": "stdout"
        }
      ]
    }
  ]
}