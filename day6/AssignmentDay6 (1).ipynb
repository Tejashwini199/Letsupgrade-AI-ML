{
  "nbformat": 4,
  "nbformat_minor": 0,
  "metadata": {
    "colab": {
      "name": "AssignmentDay6.ipynb",
      "provenance": [],
      "collapsed_sections": []
    },
    "kernelspec": {
      "name": "python3",
      "display_name": "Python 3"
    }
  },
  "cells": [
    {
      "cell_type": "markdown",
      "metadata": {
        "id": "_bhtE_w7mH1p",
        "colab_type": "text"
      },
      "source": [
        "#Question 1:\n",
        "Assuming that we have some email addresses in the \"username@companyname.com\" format, please write program\n",
        "to print the company name of a given email address. Both user names and company names are composed of letters\n",
        "only.\n",
        "\n",
        "Input Format:\n",
        "The first line of the input contains an email address.\n",
        "\n",
        "Output Format:\n",
        "Print the company name in single line.\n",
        "\n",
        "Example;\n",
        "Input:\n",
        "john@google.com\n",
        "Output:\n",
        "google"
      ]
    },
    {
      "cell_type": "code",
      "metadata": {
        "id": "w7NfRXM6nVuo",
        "colab_type": "code",
        "colab": {
          "base_uri": "https://localhost:8080/",
          "height": 51
        },
        "outputId": "dde8ce44-4bc7-45fe-de78-09ef8371fccc"
      },
      "source": [
        "n=input()\n",
        "b=n.split(\"@\")\n",
        "c=b[0]\n",
        "d=b[1]\n",
        "e=d.split(\".\")\n",
        "print(e[0],end=\"\")"
      ],
      "execution_count": null,
      "outputs": [
        {
          "output_type": "stream",
          "text": [
            "john@google.com\n",
            "google"
          ],
          "name": "stdout"
        }
      ]
    },
    {
      "cell_type": "markdown",
      "metadata": {
        "id": "NMQya9mDn0og",
        "colab_type": "text"
      },
      "source": [
        "#Question 2:\n",
        "Write a program that accepts a comma-separated sequence of words as input and prints the words in a comma\n",
        "separated sequence after sorting them alphabetically.\n",
        "\n",
        "Input Format:\n",
        "The first line of input contains words separated by the comma.\n",
        "\n",
        "Output Format:\n",
        "Print the sorted words separated by the comma.\n",
        "\n",
        "Example:\n",
        "Input:\n",
        "without,hello,bag,world\n",
        "Output:\n",
        "bag,hello,without,world"
      ]
    },
    {
      "cell_type": "code",
      "metadata": {
        "id": "CxJag67BoR1x",
        "colab_type": "code",
        "colab": {
          "base_uri": "https://localhost:8080/",
          "height": 51
        },
        "outputId": "176c3652-41f5-47b6-99d4-5b903bf0929d"
      },
      "source": [
        "x=input()\n",
        "x=list(x.split(\",\"))\n",
        "x.sort()\n",
        "print(*x,sep=\",\",end=\"\")"
      ],
      "execution_count": null,
      "outputs": [
        {
          "output_type": "stream",
          "text": [
            "without,hello,bag,world\n",
            "bag,hello,without,world"
          ],
          "name": "stdout"
        }
      ]
    },
    {
      "cell_type": "markdown",
      "metadata": {
        "id": "pOCg3s6npPwW",
        "colab_type": "text"
      },
      "source": [
        "#Question 3:\n",
        "Create your own Jupyter Notebook for Sets.\n",
        "Reference link: https://www.w3schools.com/python/python_sets.asp\n"
      ]
    },
    {
      "cell_type": "code",
      "metadata": {
        "id": "G0ghSx49yQfk",
        "colab_type": "code",
        "colab": {}
      },
      "source": [
        "#sets\n",
        "st={\"shri\",\"apple\",\"python\",1,2,3,4,5}"
      ],
      "execution_count": 31,
      "outputs": []
    },
    {
      "cell_type": "code",
      "metadata": {
        "id": "-uyl0VcHyWS_",
        "colab_type": "code",
        "colab": {
          "base_uri": "https://localhost:8080/",
          "height": 34
        },
        "outputId": "5bd6fb90-8734-4706-a03e-1e82827b3b59"
      },
      "source": [
        "st"
      ],
      "execution_count": 32,
      "outputs": [
        {
          "output_type": "execute_result",
          "data": {
            "text/plain": [
              "{1, 2, 3, 4, 5, 'apple', 'python', 'shri'}"
            ]
          },
          "metadata": {
            "tags": []
          },
          "execution_count": 32
        }
      ]
    },
    {
      "cell_type": "code",
      "metadata": {
        "id": "GRfElNaMyZ6C",
        "colab_type": "code",
        "colab": {}
      },
      "source": [
        "#add()\n",
        "st.add(\"red\")"
      ],
      "execution_count": 33,
      "outputs": []
    },
    {
      "cell_type": "code",
      "metadata": {
        "id": "5FX8IcpcygKn",
        "colab_type": "code",
        "colab": {
          "base_uri": "https://localhost:8080/",
          "height": 34
        },
        "outputId": "9ebe84b8-4f8f-4bf3-f4fb-8d36ea959edd"
      },
      "source": [
        "st"
      ],
      "execution_count": 34,
      "outputs": [
        {
          "output_type": "execute_result",
          "data": {
            "text/plain": [
              "{1, 2, 3, 4, 5, 'apple', 'python', 'red', 'shri'}"
            ]
          },
          "metadata": {
            "tags": []
          },
          "execution_count": 34
        }
      ]
    },
    {
      "cell_type": "code",
      "metadata": {
        "id": "WAjrfBcwyizx",
        "colab_type": "code",
        "colab": {
          "base_uri": "https://localhost:8080/",
          "height": 34
        },
        "outputId": "2d6ab322-1388-4f78-993c-a6e4a0ef1c48"
      },
      "source": [
        "#pop()\n",
        "st.pop()"
      ],
      "execution_count": 35,
      "outputs": [
        {
          "output_type": "execute_result",
          "data": {
            "text/plain": [
              "1"
            ]
          },
          "metadata": {
            "tags": []
          },
          "execution_count": 35
        }
      ]
    },
    {
      "cell_type": "code",
      "metadata": {
        "id": "QyR71BRkyrGx",
        "colab_type": "code",
        "colab": {
          "base_uri": "https://localhost:8080/",
          "height": 34
        },
        "outputId": "7d5bbbf3-22d4-4edc-d20f-3017f26ab848"
      },
      "source": [
        "st"
      ],
      "execution_count": 36,
      "outputs": [
        {
          "output_type": "execute_result",
          "data": {
            "text/plain": [
              "{2, 3, 4, 5, 'apple', 'python', 'red', 'shri'}"
            ]
          },
          "metadata": {
            "tags": []
          },
          "execution_count": 36
        }
      ]
    },
    {
      "cell_type": "code",
      "metadata": {
        "id": "tUqNMoo4yt84",
        "colab_type": "code",
        "colab": {
          "base_uri": "https://localhost:8080/",
          "height": 34
        },
        "outputId": "69291ce2-d57b-4054-d278-69670351faf4"
      },
      "source": [
        "#copy()\n",
        "st.copy()"
      ],
      "execution_count": 37,
      "outputs": [
        {
          "output_type": "execute_result",
          "data": {
            "text/plain": [
              "{2, 3, 4, 5, 'apple', 'python', 'red', 'shri'}"
            ]
          },
          "metadata": {
            "tags": []
          },
          "execution_count": 37
        }
      ]
    },
    {
      "cell_type": "code",
      "metadata": {
        "id": "XaMDx7Wry14Y",
        "colab_type": "code",
        "colab": {}
      },
      "source": [
        "#remove\n",
        "st.remove(\"shri\")"
      ],
      "execution_count": 38,
      "outputs": []
    },
    {
      "cell_type": "code",
      "metadata": {
        "id": "osVGPZf5y8dA",
        "colab_type": "code",
        "colab": {
          "base_uri": "https://localhost:8080/",
          "height": 34
        },
        "outputId": "f5351506-df55-48b9-cf76-46d0aa2cca78"
      },
      "source": [
        "st"
      ],
      "execution_count": 39,
      "outputs": [
        {
          "output_type": "execute_result",
          "data": {
            "text/plain": [
              "{2, 3, 4, 5, 'apple', 'python', 'red'}"
            ]
          },
          "metadata": {
            "tags": []
          },
          "execution_count": 39
        }
      ]
    },
    {
      "cell_type": "code",
      "metadata": {
        "id": "BLQyMCWNzAAn",
        "colab_type": "code",
        "colab": {}
      },
      "source": [
        "#discard()\n",
        "st.discard(\"red\")"
      ],
      "execution_count": 40,
      "outputs": []
    },
    {
      "cell_type": "code",
      "metadata": {
        "id": "wyOJCt0TzPbZ",
        "colab_type": "code",
        "colab": {
          "base_uri": "https://localhost:8080/",
          "height": 34
        },
        "outputId": "4ce4d67c-1569-4b04-d04b-9be39d101741"
      },
      "source": [
        "st"
      ],
      "execution_count": 41,
      "outputs": [
        {
          "output_type": "execute_result",
          "data": {
            "text/plain": [
              "{2, 3, 4, 5, 'apple', 'python'}"
            ]
          },
          "metadata": {
            "tags": []
          },
          "execution_count": 41
        }
      ]
    },
    {
      "cell_type": "code",
      "metadata": {
        "id": "Q0fxHVl_zRWP",
        "colab_type": "code",
        "colab": {
          "base_uri": "https://localhost:8080/",
          "height": 34
        },
        "outputId": "84df6619-40f2-465d-cb7b-313bd159faf7"
      },
      "source": [
        "#issuperset()\n",
        "st.issuperset(st)"
      ],
      "execution_count": 42,
      "outputs": [
        {
          "output_type": "execute_result",
          "data": {
            "text/plain": [
              "True"
            ]
          },
          "metadata": {
            "tags": []
          },
          "execution_count": 42
        }
      ]
    },
    {
      "cell_type": "code",
      "metadata": {
        "id": "pF0YW6Djzmj0",
        "colab_type": "code",
        "colab": {}
      },
      "source": [
        "x={\"f\",\"e\",\"d\",\"c\",\"b\"}\n",
        "y={\"a\",\"b\",\"c\"}"
      ],
      "execution_count": 66,
      "outputs": []
    },
    {
      "cell_type": "code",
      "metadata": {
        "id": "Pu7NLELyzyln",
        "colab_type": "code",
        "colab": {
          "base_uri": "https://localhost:8080/",
          "height": 34
        },
        "outputId": "89503dad-ba43-4f08-b9b8-4cd314cd57fd"
      },
      "source": [
        "x.issuperset(y)"
      ],
      "execution_count": 45,
      "outputs": [
        {
          "output_type": "execute_result",
          "data": {
            "text/plain": [
              "False"
            ]
          },
          "metadata": {
            "tags": []
          },
          "execution_count": 45
        }
      ]
    },
    {
      "cell_type": "code",
      "metadata": {
        "id": "MYJ9EVTnz7Er",
        "colab_type": "code",
        "colab": {
          "base_uri": "https://localhost:8080/",
          "height": 34
        },
        "outputId": "22e17ba8-c69f-47e7-9600-710fd7b0cf96"
      },
      "source": [
        "#difference()\n",
        "x.difference(y)"
      ],
      "execution_count": 46,
      "outputs": [
        {
          "output_type": "execute_result",
          "data": {
            "text/plain": [
              "{'d', 'e', 'f'}"
            ]
          },
          "metadata": {
            "tags": []
          },
          "execution_count": 46
        }
      ]
    },
    {
      "cell_type": "code",
      "metadata": {
        "id": "WH4D3kOG0EPA",
        "colab_type": "code",
        "colab": {
          "base_uri": "https://localhost:8080/",
          "height": 34
        },
        "outputId": "b508562e-b7dc-4fad-daed-02b465294d60"
      },
      "source": [
        "#difference_update()\n",
        "x.difference_update(y)\n",
        "x"
      ],
      "execution_count": 67,
      "outputs": [
        {
          "output_type": "execute_result",
          "data": {
            "text/plain": [
              "{'d', 'e', 'f'}"
            ]
          },
          "metadata": {
            "tags": []
          },
          "execution_count": 67
        }
      ]
    },
    {
      "cell_type": "code",
      "metadata": {
        "id": "0gn2_KUc0PsP",
        "colab_type": "code",
        "colab": {}
      },
      "source": [
        "x={\"apple\",\"orange\",\"cheery\"}\n",
        "y={\"google\",\"micro\",\"apple\"}"
      ],
      "execution_count": 64,
      "outputs": []
    },
    {
      "cell_type": "code",
      "metadata": {
        "id": "9OUNhVfz0cp-",
        "colab_type": "code",
        "colab": {
          "base_uri": "https://localhost:8080/",
          "height": 34
        },
        "outputId": "61a70ecd-7634-413d-c7fc-7a239b9a147d"
      },
      "source": [
        "#intersection()\n",
        "x.intersection(y)"
      ],
      "execution_count": 51,
      "outputs": [
        {
          "output_type": "execute_result",
          "data": {
            "text/plain": [
              "{'apple'}"
            ]
          },
          "metadata": {
            "tags": []
          },
          "execution_count": 51
        }
      ]
    },
    {
      "cell_type": "code",
      "metadata": {
        "id": "1oxzksV40jfN",
        "colab_type": "code",
        "colab": {
          "base_uri": "https://localhost:8080/",
          "height": 34
        },
        "outputId": "a810c6c7-2686-4f56-a44d-c2c7134936d2"
      },
      "source": [
        "#intersection_update()\n",
        "x.intersection_update(y)\n",
        "x"
      ],
      "execution_count": 65,
      "outputs": [
        {
          "output_type": "execute_result",
          "data": {
            "text/plain": [
              "{'apple'}"
            ]
          },
          "metadata": {
            "tags": []
          },
          "execution_count": 65
        }
      ]
    },
    {
      "cell_type": "code",
      "metadata": {
        "id": "DweQopIx0v3l",
        "colab_type": "code",
        "colab": {
          "base_uri": "https://localhost:8080/",
          "height": 34
        },
        "outputId": "df41a43c-f8af-4d3f-84e7-a3ccb9564b8b"
      },
      "source": [
        "#isdisjoint()\n",
        "x.isdisjoint(y)"
      ],
      "execution_count": 54,
      "outputs": [
        {
          "output_type": "execute_result",
          "data": {
            "text/plain": [
              "False"
            ]
          },
          "metadata": {
            "tags": []
          },
          "execution_count": 54
        }
      ]
    },
    {
      "cell_type": "code",
      "metadata": {
        "id": "lmnguUtX0205",
        "colab_type": "code",
        "colab": {
          "base_uri": "https://localhost:8080/",
          "height": 34
        },
        "outputId": "d6831e0d-5622-4115-d8aa-f7e803cc8080"
      },
      "source": [
        "#issubset()\n",
        "x.issubset(y)"
      ],
      "execution_count": 55,
      "outputs": [
        {
          "output_type": "execute_result",
          "data": {
            "text/plain": [
              "True"
            ]
          },
          "metadata": {
            "tags": []
          },
          "execution_count": 55
        }
      ]
    },
    {
      "cell_type": "code",
      "metadata": {
        "id": "BpD70PW60-wa",
        "colab_type": "code",
        "colab": {
          "base_uri": "https://localhost:8080/",
          "height": 34
        },
        "outputId": "ec6a5392-44e0-4bc9-b9af-8d87f275c401"
      },
      "source": [
        "#symmetric_difference()\n",
        "x.symmetric_difference(y)"
      ],
      "execution_count": 56,
      "outputs": [
        {
          "output_type": "execute_result",
          "data": {
            "text/plain": [
              "{'google', 'micro'}"
            ]
          },
          "metadata": {
            "tags": []
          },
          "execution_count": 56
        }
      ]
    },
    {
      "cell_type": "code",
      "metadata": {
        "id": "IuaToovG1HbJ",
        "colab_type": "code",
        "colab": {
          "base_uri": "https://localhost:8080/",
          "height": 34
        },
        "outputId": "0ef3e181-2e5f-492d-8900-4f6236267f75"
      },
      "source": [
        "#symmetric_difference_update()\n",
        "x.symmetric_difference_update(y)\n",
        "x"
      ],
      "execution_count": 58,
      "outputs": [
        {
          "output_type": "execute_result",
          "data": {
            "text/plain": [
              "{'apple'}"
            ]
          },
          "metadata": {
            "tags": []
          },
          "execution_count": 58
        }
      ]
    },
    {
      "cell_type": "code",
      "metadata": {
        "id": "y-j8wnIl1Yaj",
        "colab_type": "code",
        "colab": {
          "base_uri": "https://localhost:8080/",
          "height": 34
        },
        "outputId": "f9d98a22-3232-44ed-e5aa-5ccc90697088"
      },
      "source": [
        "#union()\n",
        "x.union(y)"
      ],
      "execution_count": 59,
      "outputs": [
        {
          "output_type": "execute_result",
          "data": {
            "text/plain": [
              "{'apple', 'google', 'micro'}"
            ]
          },
          "metadata": {
            "tags": []
          },
          "execution_count": 59
        }
      ]
    },
    {
      "cell_type": "code",
      "metadata": {
        "id": "il_SntRf1dys",
        "colab_type": "code",
        "colab": {
          "base_uri": "https://localhost:8080/",
          "height": 34
        },
        "outputId": "e5d766bd-d8c9-4470-9f28-893ad1e3b29f"
      },
      "source": [
        "#update()\n",
        "x.update(y)\n",
        "x"
      ],
      "execution_count": 61,
      "outputs": [
        {
          "output_type": "execute_result",
          "data": {
            "text/plain": [
              "{'apple', 'google', 'micro'}"
            ]
          },
          "metadata": {
            "tags": []
          },
          "execution_count": 61
        }
      ]
    },
    {
      "cell_type": "markdown",
      "metadata": {
        "id": "gNwwZG6WphwT",
        "colab_type": "text"
      },
      "source": [
        "#Question 4:\n",
        "Given a list of n-1 numbers ranging from 1 to n, your task is to find the missing number. There are no duplicates.\n",
        "\n",
        "Input Format:\n",
        "The first line contains n-1 numbers with each number separated by a space.\n",
        "\n",
        "Output Format:\n",
        "Print the missing number\n",
        "Example:\n",
        "Input:1 2 4 6 3 7 8\n",
        "Output:5"
      ]
    },
    {
      "cell_type": "code",
      "metadata": {
        "id": "V7y0Azl-rTZw",
        "colab_type": "code",
        "colab": {
          "base_uri": "https://localhost:8080/",
          "height": 34
        },
        "outputId": "3f65ba2a-72bc-4765-fdc0-4bb8389c38aa"
      },
      "source": [
        "# getMissingNo takes list as argument \n",
        "def getMissingNo(A): \n",
        "    n = len(A) \n",
        "    total = (n + 1)*(n + 2)/2\n",
        "    sum_of_A = sum(A) \n",
        "    return total - sum_of_A \n",
        "  \n",
        "# Driver program to test the above function \n",
        "A = [1, 2, 4, 6, 3,7,8] \n",
        "miss = getMissingNo(A) \n",
        "print(miss) "
      ],
      "execution_count": null,
      "outputs": [
        {
          "output_type": "stream",
          "text": [
            "5.0\n"
          ],
          "name": "stdout"
        }
      ]
    },
    {
      "cell_type": "markdown",
      "metadata": {
        "id": "RnKACAL9rUdq",
        "colab_type": "text"
      },
      "source": [
        "#Question 5:\n",
        "With a given list L, write a program to print this list L after removing all duplicate values with original order reserved.\n",
        "\n",
        "Example:\n",
        "If the input list is\n",
        "12 24 35 24 88 120 155 88 120 155\n",
        "Then the output should be\n",
        "12 24 35 88 120 155"
      ]
    },
    {
      "cell_type": "code",
      "metadata": {
        "id": "-9YO2czUrfUP",
        "colab_type": "code",
        "colab": {
          "base_uri": "https://localhost:8080/",
          "height": 51
        },
        "outputId": "6581756b-3535-47b2-cc9c-088fd22dc092"
      },
      "source": [
        "list = [12, 24, 35, 24, 88, 120, 155, 88, 120, 155] \n",
        "print (\"The list is : \" +  str(list)) \n",
        "  \n",
        "# to remove duplicated from list  \n",
        "res = [] \n",
        "for i in list: \n",
        "    if i not in res: \n",
        "        res.append(i) \n",
        "  \n",
        "# printing list after removal  \n",
        "print (\"The list after removing duplicates : \" + str(res)) \n"
      ],
      "execution_count": 68,
      "outputs": [
        {
          "output_type": "stream",
          "text": [
            "The list is : [12, 24, 35, 24, 88, 120, 155, 88, 120, 155]\n",
            "The list after removing duplicates : [12, 24, 35, 88, 120, 155]\n"
          ],
          "name": "stdout"
        }
      ]
    }
  ]
}