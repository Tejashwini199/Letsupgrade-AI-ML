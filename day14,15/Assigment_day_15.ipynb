{
  "nbformat": 4,
  "nbformat_minor": 0,
  "metadata": {
    "colab": {
      "name": "Assigment_day_15.ipynb",
      "provenance": []
    },
    "kernelspec": {
      "name": "python3",
      "display_name": "Python 3"
    }
  },
  "cells": [
    {
      "cell_type": "markdown",
      "metadata": {
        "id": "d41r81Hyjusm",
        "colab_type": "text"
      },
      "source": [
        "**1)Create a 3x3x3 array with random values**"
      ]
    },
    {
      "cell_type": "code",
      "metadata": {
        "id": "tiFzXMsTjryr",
        "colab_type": "code",
        "colab": {
          "base_uri": "https://localhost:8080/",
          "height": 204
        },
        "outputId": "97c6a254-a538-4ece-f057-cd52bb68caeb"
      },
      "source": [
        "import numpy as np\n",
        "x = np.random.random((3,3,3))\n",
        "print(x)"
      ],
      "execution_count": 1,
      "outputs": [
        {
          "output_type": "stream",
          "text": [
            "[[[0.60855349 0.11054094 0.04340374]\n",
            "  [0.78616576 0.67886106 0.69121945]\n",
            "  [0.28858046 0.78520553 0.93262018]]\n",
            "\n",
            " [[0.9243774  0.33761697 0.51953139]\n",
            "  [0.44820846 0.08540484 0.53312592]\n",
            "  [0.38342833 0.74102728 0.22227155]]\n",
            "\n",
            " [[0.57820135 0.24177455 0.19600527]\n",
            "  [0.92933395 0.16751928 0.7418358 ]\n",
            "  [0.12418601 0.12458035 0.35223613]]]\n"
          ],
          "name": "stdout"
        }
      ]
    },
    {
      "cell_type": "markdown",
      "metadata": {
        "id": "w7-rSOW5j-DX",
        "colab_type": "text"
      },
      "source": [
        "**2.Create a 5x5 matrix with values 1,2,3,4 just below the diagonal**"
      ]
    },
    {
      "cell_type": "code",
      "metadata": {
        "id": "sP-jCUXQj_6i",
        "colab_type": "code",
        "colab": {
          "base_uri": "https://localhost:8080/",
          "height": 102
        },
        "outputId": "07b81429-b202-47b1-986c-62594bee2ad1"
      },
      "source": [
        "Z = np.diag(1+np.arange(4), k = -1)\n",
        "print (Z)"
      ],
      "execution_count": 4,
      "outputs": [
        {
          "output_type": "stream",
          "text": [
            "[[0 0 0 0 0]\n",
            " [1 0 0 0 0]\n",
            " [0 2 0 0 0]\n",
            " [0 0 3 0 0]\n",
            " [0 0 0 4 0]]\n"
          ],
          "name": "stdout"
        }
      ]
    },
    {
      "cell_type": "markdown",
      "metadata": {
        "id": "Y9GKgf6rkeR7",
        "colab_type": "text"
      },
      "source": [
        "**3)Create a 8x8 matrix and fill it with a checkerboard pattern**"
      ]
    },
    {
      "cell_type": "code",
      "metadata": {
        "id": "POVcM7HqlBh9",
        "colab_type": "code",
        "colab": {
          "base_uri": "https://localhost:8080/",
          "height": 170
        },
        "outputId": "083b56fc-6d76-4c0d-b802-2aa97a6d4db1"
      },
      "source": [
        "import numpy as np\n",
        "x = np.ones((3,3))\n",
        "print(\"Checkerboard pattern:\")\n",
        "x = np.zeros((8,8),dtype=int)\n",
        "x[1::2,::2] = 1\n",
        "x[::2,1::2] = 1\n",
        "print(x)"
      ],
      "execution_count": 7,
      "outputs": [
        {
          "output_type": "stream",
          "text": [
            "Checkerboard pattern:\n",
            "[[0 1 0 1 0 1 0 1]\n",
            " [1 0 1 0 1 0 1 0]\n",
            " [0 1 0 1 0 1 0 1]\n",
            " [1 0 1 0 1 0 1 0]\n",
            " [0 1 0 1 0 1 0 1]\n",
            " [1 0 1 0 1 0 1 0]\n",
            " [0 1 0 1 0 1 0 1]\n",
            " [1 0 1 0 1 0 1 0]]\n"
          ],
          "name": "stdout"
        }
      ]
    },
    {
      "cell_type": "markdown",
      "metadata": {
        "id": "nFCxH9hqlM6u",
        "colab_type": "text"
      },
      "source": [
        "**4) Normalize a 5x5 random matrix**"
      ]
    },
    {
      "cell_type": "code",
      "metadata": {
        "id": "24jDWB2wlXGI",
        "colab_type": "code",
        "colab": {
          "base_uri": "https://localhost:8080/",
          "height": 102
        },
        "outputId": "638eaec6-d62f-4d28-f1e3-45db8a61095f"
      },
      "source": [
        "Z = np.random.random((5,5))\n",
        "Zmax, Zmin = Z.max(), Z.min()\n",
        "Z= (Z-Zmin)/(Zmax-Zmin)\n",
        "print (Z)"
      ],
      "execution_count": 6,
      "outputs": [
        {
          "output_type": "stream",
          "text": [
            "[[0.4211883  0.20827996 0.1769904  0.72637692 0.99786777]\n",
            " [0.8441578  0.0244611  0.32240658 0.76582227 0.91924972]\n",
            " [0.98915909 0.3178972  0.80560303 1.         0.76559416]\n",
            " [0.63352056 0.27602401 0.         0.10182982 0.80705345]\n",
            " [0.7173383  0.2120084  0.62918013 0.20324593 0.22158928]]\n"
          ],
          "name": "stdout"
        }
      ]
    },
    {
      "cell_type": "markdown",
      "metadata": {
        "id": "tXyu02SGlrWV",
        "colab_type": "text"
      },
      "source": [
        "**5)How to find common values between two arrays?**"
      ]
    },
    {
      "cell_type": "code",
      "metadata": {
        "id": "aT3ra2qzlt5g",
        "colab_type": "code",
        "colab": {
          "base_uri": "https://localhost:8080/",
          "height": 85
        },
        "outputId": "a21e0a40-7d9d-46fa-a154-1fa8d38700d0"
      },
      "source": [
        "import numpy as np\n",
        "array1 = np.array([0, 10, 20, 40, 60])\n",
        "print(\"Array1: \",array1)\n",
        "array2 = [10, 30, 40]\n",
        "print(\"Array2: \",array2)\n",
        "print(\"Common values between two arrays:\")\n",
        "print(np.intersect1d(array1, array2))\n"
      ],
      "execution_count": 8,
      "outputs": [
        {
          "output_type": "stream",
          "text": [
            "Array1:  [ 0 10 20 40 60]\n",
            "Array2:  [10, 30, 40]\n",
            "Common values between two arrays:\n",
            "[10 40]\n"
          ],
          "name": "stdout"
        }
      ]
    },
    {
      "cell_type": "markdown",
      "metadata": {
        "id": "8j6bgmL0mXv3",
        "colab_type": "text"
      },
      "source": [
        "**6.How to get the dates of yesterday, today and tomorrow?**"
      ]
    },
    {
      "cell_type": "code",
      "metadata": {
        "id": "jIf6DSDimsgK",
        "colab_type": "code",
        "colab": {
          "base_uri": "https://localhost:8080/",
          "height": 68
        },
        "outputId": "f0b5eca4-8b75-4aec-dbbe-b90bc7b8c06e"
      },
      "source": [
        "import numpy as np\n",
        "yesterday = np.datetime64('today', 'D') - np.timedelta64(1, 'D')\n",
        "print(\"Yestraday: \",yesterday)\n",
        "today     = np.datetime64('today', 'D')\n",
        "print(\"Today: \",today)\n",
        "tomorrow  = np.datetime64('today', 'D') + np.timedelta64(1, 'D')\n",
        "print(\"Tomorrow: \",tomorrow)"
      ],
      "execution_count": 9,
      "outputs": [
        {
          "output_type": "stream",
          "text": [
            "Yestraday:  2020-07-25\n",
            "Today:  2020-07-26\n",
            "Tomorrow:  2020-07-27\n"
          ],
          "name": "stdout"
        }
      ]
    },
    {
      "cell_type": "markdown",
      "metadata": {
        "id": "srHvQsXYmyQW",
        "colab_type": "text"
      },
      "source": [
        "**7. Consider two random array A and B, check if they are equal**"
      ]
    },
    {
      "cell_type": "code",
      "metadata": {
        "id": "7GE6EcdzmzLz",
        "colab_type": "code",
        "colab": {
          "base_uri": "https://localhost:8080/",
          "height": 34
        },
        "outputId": "7e594aea-9dc0-4c87-fad2-008ee5d7cadc"
      },
      "source": [
        "A = np.random.randint(0,2,5)\n",
        "B = np.random.randint(0,2,5)\n",
        "equal = np.allclose(A,B)\n",
        "print(equal)"
      ],
      "execution_count": 10,
      "outputs": [
        {
          "output_type": "stream",
          "text": [
            "False\n"
          ],
          "name": "stdout"
        }
      ]
    },
    {
      "cell_type": "markdown",
      "metadata": {
        "id": "opEw8riCmzbq",
        "colab_type": "text"
      },
      "source": [
        "**8) Create random vector of size 10 and replace the maximum value by 0**"
      ]
    },
    {
      "cell_type": "code",
      "metadata": {
        "id": "exoMXdL7m3cT",
        "colab_type": "code",
        "colab": {
          "base_uri": "https://localhost:8080/",
          "height": 119
        },
        "outputId": "bd729a22-325f-49c4-a878-d24d633290e9"
      },
      "source": [
        "import numpy as np\n",
        "x = np.random.random(10)\n",
        "print(\"Original array:\")\n",
        "print(x)\n",
        "x[x.argmax()] = 0\n",
        "print(\"Maximum value replaced by 0:\")\n",
        "print(x)"
      ],
      "execution_count": 11,
      "outputs": [
        {
          "output_type": "stream",
          "text": [
            "Original array:\n",
            "[0.74032721 0.70053976 0.24784702 0.98229239 0.57234932 0.82833813\n",
            " 0.16143217 0.1960238  0.26837346 0.74641451]\n",
            "Maximum value replaced by 0:\n",
            "[0.74032721 0.70053976 0.24784702 0.         0.57234932 0.82833813\n",
            " 0.16143217 0.1960238  0.26837346 0.74641451]\n"
          ],
          "name": "stdout"
        }
      ]
    },
    {
      "cell_type": "markdown",
      "metadata": {
        "id": "EanhgY35m33U",
        "colab_type": "text"
      },
      "source": [
        "**9. How to print all the values of an array?**"
      ]
    },
    {
      "cell_type": "code",
      "metadata": {
        "id": "kavu8xXVm6pX",
        "colab_type": "code",
        "colab": {
          "base_uri": "https://localhost:8080/",
          "height": 357
        },
        "outputId": "6e544a39-0fc4-4615-f095-bfb5ded40cbe"
      },
      "source": [
        "Z = np.random.random((10,10))\n",
        "print(Z)"
      ],
      "execution_count": 31,
      "outputs": [
        {
          "output_type": "stream",
          "text": [
            "[[0.57447446 0.81409595 0.4303208  0.04649168 0.75085519 0.00928692\n",
            "  0.50140556 0.49258038 0.20218232 0.05170433]\n",
            " [0.12729814 0.11179537 0.0884464  0.77150763 0.0392473  0.61492476\n",
            "  0.10464994 0.24637868 0.24826476 0.32213772]\n",
            " [0.30308519 0.93738269 0.12312154 0.03807545 0.12972218 0.19141321\n",
            "  0.91632178 0.18974957 0.78200979 0.43134681]\n",
            " [0.59720541 0.27446855 0.2280631  0.5524955  0.04877026 0.36401344\n",
            "  0.02137964 0.30726561 0.91497318 0.75771907]\n",
            " [0.62797927 0.4494529  0.35740984 0.85685961 0.08732473 0.6550811\n",
            "  0.43457437 0.87007718 0.965347   0.22994621]\n",
            " [0.35167067 0.48294547 0.05142765 0.94816314 0.16540673 0.36149734\n",
            "  0.3608371  0.94823349 0.97886461 0.63338956]\n",
            " [0.48392282 0.83473023 0.59649812 0.81680606 0.99122791 0.52806293\n",
            "  0.61647667 0.52702713 0.99485263 0.92416305]\n",
            " [0.64540994 0.39190717 0.45114536 0.49797691 0.10060507 0.31055036\n",
            "  0.52655297 0.96233518 0.68837745 0.32986168]\n",
            " [0.37230127 0.9812939  0.86656331 0.46997085 0.94605412 0.99676672\n",
            "  0.09320099 0.15919347 0.58820148 0.81617763]\n",
            " [0.13031088 0.53215344 0.23234941 0.32828342 0.45905512 0.97300212\n",
            "  0.675257   0.38184365 0.20631622 0.41095276]]\n"
          ],
          "name": "stdout"
        }
      ]
    },
    {
      "cell_type": "markdown",
      "metadata": {
        "id": "JelGZKBym-r_",
        "colab_type": "text"
      },
      "source": [
        "**10.Subtract the mean of each row of a matrix**"
      ]
    },
    {
      "cell_type": "code",
      "metadata": {
        "id": "I0onZ5QPnAVp",
        "colab_type": "code",
        "colab": {
          "base_uri": "https://localhost:8080/",
          "height": 323
        },
        "outputId": "fb7ec5e5-ed97-4ace-a94b-131226d45f63"
      },
      "source": [
        "X = np.random.rand(6, 12)\n",
        "\n",
        "# Recent versions of numpy\n",
        "Y = X - X.mean(axis=1, keepdims=True)\n",
        "\n",
        "# Older versions of numpy\n",
        "Y = X - X.mean(axis=1).reshape(-1, 1)\n",
        "Y"
      ],
      "execution_count": 19,
      "outputs": [
        {
          "output_type": "execute_result",
          "data": {
            "text/plain": [
              "array([[-0.52091687,  0.17074323,  0.23782003,  0.21930011, -0.58820952,\n",
              "         0.13297855, -0.22001761,  0.19292278, -0.1571869 ,  0.36277452,\n",
              "        -0.06713813,  0.23692981],\n",
              "       [ 0.07804583, -0.17453318,  0.06992351, -0.43030721, -0.03449747,\n",
              "         0.33137193, -0.48928548,  0.10496059,  0.41002951,  0.00425642,\n",
              "         0.02386282,  0.10617272],\n",
              "       [ 0.28415191, -0.24189969, -0.4207422 ,  0.32219376, -0.16916541,\n",
              "        -0.27802785, -0.08265501,  0.35116795,  0.39061216,  0.24953356,\n",
              "        -0.19920233, -0.20596686],\n",
              "       [-0.26573651,  0.14991995, -0.26588652, -0.28601901, -0.27576474,\n",
              "         0.1333644 ,  0.48954366,  0.04634022,  0.01897654, -0.33813621,\n",
              "         0.00528459,  0.58811363],\n",
              "       [-0.14496482,  0.1400827 , -0.19252231,  0.09062505,  0.24242327,\n",
              "        -0.14116768, -0.32982122,  0.26278728, -0.04415845, -0.05012207,\n",
              "        -0.28671424,  0.45355248],\n",
              "       [-0.05865816, -0.26621719,  0.40554455,  0.10288903,  0.01250016,\n",
              "         0.34926469, -0.32671944,  0.07450393, -0.33525761,  0.29843563,\n",
              "        -0.15444284, -0.10184275]])"
            ]
          },
          "metadata": {
            "tags": []
          },
          "execution_count": 19
        }
      ]
    },
    {
      "cell_type": "markdown",
      "metadata": {
        "id": "-kQrR5rOnA4-",
        "colab_type": "text"
      },
      "source": [
        "**11.Consider a given vector, how to add 1 to each element indexed by a second vector (be careful with repeated indices)?**"
      ]
    },
    {
      "cell_type": "code",
      "metadata": {
        "id": "uISwoLh1nE5g",
        "colab_type": "code",
        "colab": {
          "base_uri": "https://localhost:8080/",
          "height": 34
        },
        "outputId": "ccf6cbf4-3c9b-4ca8-9224-334cb7584d55"
      },
      "source": [
        "Z = np.ones(10)\n",
        "I = np.random.randint(0,len(Z),20)\n",
        "Z += np.bincount(I, minlength=len(Z))\n",
        "print(Z)"
      ],
      "execution_count": 22,
      "outputs": [
        {
          "output_type": "stream",
          "text": [
            "[3. 2. 3. 3. 3. 2. 4. 2. 5. 3.]\n"
          ],
          "name": "stdout"
        }
      ]
    },
    {
      "cell_type": "markdown",
      "metadata": {
        "id": "OzNGkqtYnFoE",
        "colab_type": "text"
      },
      "source": [
        "**12.How to get the diagonal of a dot product?**"
      ]
    },
    {
      "cell_type": "code",
      "metadata": {
        "id": "OKFnocK3nIY3",
        "colab_type": "code",
        "colab": {
          "base_uri": "https://localhost:8080/",
          "height": 34
        },
        "outputId": "673b7678-6215-406a-d431-31386325c434"
      },
      "source": [
        "A = np.random.randint(0,10,(3,3))\n",
        "B= np.random.randint(0,10,(3,3))\n",
        "#Slow version\n",
        "\n",
        "np.diag(np.dot(A, B))\n",
        "\n",
        "# Fast version\n",
        "np.sum(A * B.T, axis=1)\n",
        "\n",
        "# Faster version\n",
        "np.einsum(\"ij,ji->i\", A, B)"
      ],
      "execution_count": 23,
      "outputs": [
        {
          "output_type": "execute_result",
          "data": {
            "text/plain": [
              "array([54, 23, 42])"
            ]
          },
          "metadata": {
            "tags": []
          },
          "execution_count": 23
        }
      ]
    },
    {
      "cell_type": "markdown",
      "metadata": {
        "id": "1NdQxFA7nIpA",
        "colab_type": "text"
      },
      "source": [
        "**13.How to find the most frequent value in an array?**"
      ]
    },
    {
      "cell_type": "code",
      "metadata": {
        "id": "MD9UusaUnLTi",
        "colab_type": "code",
        "colab": {
          "base_uri": "https://localhost:8080/",
          "height": 68
        },
        "outputId": "07a6dd6a-5713-4f55-ce9d-1c8f33626054"
      },
      "source": [
        "Z = np.random.randint(0,10,50)\n",
        "print (Z)\n",
        "print('rank:', np.bincount(Z).argmax())"
      ],
      "execution_count": 24,
      "outputs": [
        {
          "output_type": "stream",
          "text": [
            "[9 7 3 1 9 1 6 8 0 2 3 7 2 8 1 2 2 8 3 2 2 3 4 8 0 7 6 0 7 5 3 6 8 0 8 6 1\n",
            " 6 1 4 8 9 2 5 6 4 4 3 4 6]\n",
            "rank: 2\n"
          ],
          "name": "stdout"
        }
      ]
    },
    {
      "cell_type": "markdown",
      "metadata": {
        "id": "KmSZaGgdnMZ9",
        "colab_type": "text"
      },
      "source": [
        "**14.How to get the n largest values of an array**"
      ]
    },
    {
      "cell_type": "code",
      "metadata": {
        "id": "ekyfK0rOnNNu",
        "colab_type": "code",
        "colab": {
          "base_uri": "https://localhost:8080/",
          "height": 51
        },
        "outputId": "34df8d61-85d3-4fde-e02f-f45018d25137"
      },
      "source": [
        "Z = np.arange(10000)\n",
        "np.random.shuffle(Z)\n",
        "n = 5\n",
        "\n",
        "# Slow\n",
        "print (Z[np.argsort(Z)[-n:]])\n",
        "\n",
        "# Fast\n",
        "print (Z[np.argpartition(-Z,n)[:n]])"
      ],
      "execution_count": 25,
      "outputs": [
        {
          "output_type": "stream",
          "text": [
            "[9995 9996 9997 9998 9999]\n",
            "[9998 9999 9997 9996 9995]\n"
          ],
          "name": "stdout"
        }
      ]
    },
    {
      "cell_type": "markdown",
      "metadata": {
        "id": "chnwh4PdnR6A",
        "colab_type": "text"
      },
      "source": [
        "**15.How to create a record array from a regular array?**"
      ]
    },
    {
      "cell_type": "code",
      "metadata": {
        "id": "yoYV_WDTnXsw",
        "colab_type": "code",
        "colab": {
          "base_uri": "https://localhost:8080/",
          "height": 136
        },
        "outputId": "5ff9f0a7-c33c-4eb1-db19-82c7c0122d95"
      },
      "source": [
        "import numpy as np\n",
        "arra1 = np.array([(\"yogi\", 88.5, 90),\n",
        "                 (\"tejashwini\", 87, 99),\n",
        "             (\"Anand\", 85.5, 91)])\n",
        "print(\"Original arrays:\")\n",
        "print(arra1)\n",
        "print(\"\\nRecord array;\")\n",
        "result = np.core.records.fromarrays(arra1.T,\n",
        "                              names='col1, col2, col3',\n",
        "                              formats = 'S80, f8, i8')\n",
        "print(result)"
      ],
      "execution_count": 30,
      "outputs": [
        {
          "output_type": "stream",
          "text": [
            "Original arrays:\n",
            "[['yogi' '88.5' '90']\n",
            " ['tejashwini' '87' '99']\n",
            " ['Anand' '85.5' '91']]\n",
            "\n",
            "Record array;\n",
            "[(b'yogi', 88.5, 90) (b'tejashwini', 87. , 99) (b'Anand', 85.5, 91)]\n"
          ],
          "name": "stdout"
        }
      ]
    },
    {
      "cell_type": "code",
      "metadata": {
        "id": "ywQL_dnMnSOL",
        "colab_type": "code",
        "colab": {}
      },
      "source": [
        ""
      ],
      "execution_count": null,
      "outputs": []
    }
  ]
}