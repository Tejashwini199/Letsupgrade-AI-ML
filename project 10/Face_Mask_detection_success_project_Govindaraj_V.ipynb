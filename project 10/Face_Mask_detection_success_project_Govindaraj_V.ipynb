{
  "nbformat": 4,
  "nbformat_minor": 0,
  "metadata": {
    "kernelspec": {
      "display_name": "Python 3",
      "language": "python",
      "name": "python3"
    },
    "language_info": {
      "codemirror_mode": {
        "name": "ipython",
        "version": 3
      },
      "file_extension": ".py",
      "mimetype": "text/x-python",
      "name": "python",
      "nbconvert_exporter": "python",
      "pygments_lexer": "ipython3",
      "version": "3.8.3"
    },
    "colab": {
      "name": "Face_Mask_detection_success project - Govindaraj V.ipynb",
      "provenance": []
    }
  },
  "cells": [
    {
      "cell_type": "code",
      "metadata": {
        "id": "HB6bbc6_O1Q8"
      },
      "source": [
        "from keras.optimizers import RMSprop\n",
        "from keras.preprocessing.image import ImageDataGenerator\n",
        "import cv2\n",
        "from keras.models import Sequential\n",
        "from keras.layers import Conv2D, Input, ZeroPadding2D, BatchNormalization, Activation, MaxPooling2D, Flatten, Dense,Dropout\n",
        "from keras.models import Model, load_model\n",
        "from keras.callbacks import TensorBoard, ModelCheckpoint\n",
        "from sklearn.model_selection import train_test_split\n",
        "from sklearn.metrics import f1_score\n",
        "from sklearn.utils import shuffle\n",
        "import imutils\n",
        "import numpy as np"
      ],
      "execution_count": null,
      "outputs": []
    },
    {
      "cell_type": "code",
      "metadata": {
        "id": "dTurJbpRO1RA"
      },
      "source": [
        "from keras.preprocessing.image import ImageDataGenerator,array_to_img,img_to_array,load_img\n",
        "import matplotlib as mt\n",
        "train_datagen=ImageDataGenerator()\n",
        "\n",
        "test_datagen= ImageDataGenerator(rescale=1./255)\n",
        "\n"
      ],
      "execution_count": null,
      "outputs": []
    },
    {
      "cell_type": "code",
      "metadata": {
        "id": "m95ksPRiO1RB",
        "outputId": "84270cfc-8db8-4b00-9903-bbba11d278e0"
      },
      "source": [
        "batch_size=10\n",
        "train_data=train_datagen.flow_from_directory(\n",
        "'C:/Users/govindaraj.venugopal/Documents/Projects/face-mask-dataset/train/',\n",
        "target_size=(150,150),\n",
        "batch_size=batch_size,\n",
        "class_mode='binary')"
      ],
      "execution_count": null,
      "outputs": [
        {
          "output_type": "stream",
          "text": [
            "Found 711 images belonging to 2 classes.\n"
          ],
          "name": "stdout"
        }
      ]
    },
    {
      "cell_type": "code",
      "metadata": {
        "id": "zVCmjFMuO1RD",
        "outputId": "98f64729-8827-4bd0-ffd9-c25e67ad7040"
      },
      "source": [
        "test_data=test_datagen.flow_from_directory(\n",
        "'C:/Users/govindaraj.venugopal/Documents/Projects/face-mask-dataset/test/',\n",
        "target_size=(150,150),\n",
        "batch_size=batch_size,\n",
        "class_mode='binary')"
      ],
      "execution_count": null,
      "outputs": [
        {
          "output_type": "stream",
          "text": [
            "Found 194 images belonging to 2 classes.\n"
          ],
          "name": "stdout"
        }
      ]
    },
    {
      "cell_type": "code",
      "metadata": {
        "id": "q2-ZnyMEO1RD"
      },
      "source": [
        "model = Sequential([\n",
        "    Conv2D(100, (3,3), activation='relu', input_shape=(150, 150, 3)),\n",
        "    MaxPooling2D(2,2),\n",
        "    \n",
        "    Conv2D(100, (3,3), activation='relu'),\n",
        "    MaxPooling2D(2,2),\n",
        "    \n",
        "    Flatten(),\n",
        "    Dropout(0.5),\n",
        "    Dense(50, activation='relu'),\n",
        "    Dense(2, activation='softmax')\n",
        "])"
      ],
      "execution_count": null,
      "outputs": []
    },
    {
      "cell_type": "code",
      "metadata": {
        "id": "FBiWOaR_O1RE"
      },
      "source": [
        "model.compile(optimizer='adam', loss='binary_crossentropy', metrics=['acc'])"
      ],
      "execution_count": null,
      "outputs": []
    },
    {
      "cell_type": "code",
      "metadata": {
        "id": "8e6KBb28O1RF"
      },
      "source": [
        "checkpoint = ModelCheckpoint('model2-{epoch:03d}.model',monitor='val_loss',\n",
        "                             verbose=0,save_best_only=True,mode='auto')"
      ],
      "execution_count": null,
      "outputs": []
    },
    {
      "cell_type": "code",
      "metadata": {
        "id": "ie7VDVXeO1RF",
        "outputId": "331229af-bfad-4075-bb49-76aa783c373a"
      },
      "source": [
        "histroy=model.fit_generator(\n",
        "                            train_data,steps_per_epoch=50//batch_size,epochs=10,\n",
        "                             validation_data=test_data,validation_steps=40//batch_size)"
      ],
      "execution_count": null,
      "outputs": [
        {
          "output_type": "stream",
          "text": [
            "Epoch 1/10\n",
            "5/5 [==============================] - 2s 463ms/step - loss: 7.6685 - acc: 0.5000 - val_loss: 7.6620 - val_acc: 0.5750\n",
            "Epoch 2/10\n",
            "5/5 [==============================] - 2s 448ms/step - loss: 7.6703 - acc: 0.4800 - val_loss: 7.6663 - val_acc: 0.5250\n",
            "Epoch 3/10\n",
            "5/5 [==============================] - 2s 458ms/step - loss: 7.6703 - acc: 0.4800 - val_loss: 7.6663 - val_acc: 0.5250\n",
            "Epoch 4/10\n",
            "5/5 [==============================] - 2s 453ms/step - loss: 7.6685 - acc: 0.5000 - val_loss: 7.6707 - val_acc: 0.4750\n",
            "Epoch 5/10\n",
            "5/5 [==============================] - 2s 477ms/step - loss: 7.6826 - acc: 0.3400 - val_loss: 7.6773 - val_acc: 0.4000\n",
            "Epoch 6/10\n",
            "5/5 [==============================] - 2s 383ms/step - loss: 7.6739 - acc: 0.4390 - val_loss: 7.6751 - val_acc: 0.4250\n",
            "Epoch 7/10\n",
            "5/5 [==============================] - 2s 454ms/step - loss: 7.6721 - acc: 0.4600 - val_loss: 7.6685 - val_acc: 0.5000\n",
            "Epoch 8/10\n",
            "5/5 [==============================] - 2s 452ms/step - loss: 7.6738 - acc: 0.4400 - val_loss: 7.6685 - val_acc: 0.5000\n",
            "Epoch 9/10\n",
            "5/5 [==============================] - 2s 464ms/step - loss: 7.6756 - acc: 0.4200 - val_loss: 7.6620 - val_acc: 0.5750\n",
            "Epoch 10/10\n",
            "5/5 [==============================] - 2s 476ms/step - loss: 7.6773 - acc: 0.4000 - val_loss: 7.6685 - val_acc: 0.5000\n"
          ],
          "name": "stdout"
        }
      ]
    },
    {
      "cell_type": "code",
      "metadata": {
        "id": "NhyO3pb8O1RG"
      },
      "source": [
        "model.save('mask_project.h5')"
      ],
      "execution_count": null,
      "outputs": []
    },
    {
      "cell_type": "code",
      "metadata": {
        "id": "skiTAcV1O1RG"
      },
      "source": [
        "import cv2\n",
        "import numpy as np\n",
        "from keras.models import load_model"
      ],
      "execution_count": null,
      "outputs": []
    },
    {
      "cell_type": "code",
      "metadata": {
        "id": "7wuzqHnrO1RH"
      },
      "source": [
        "import tensorflow as tf"
      ],
      "execution_count": null,
      "outputs": []
    },
    {
      "cell_type": "code",
      "metadata": {
        "id": "VzP773LsO1RH"
      },
      "source": [
        "model = tf.keras.models.load_model('mask_project.h5')"
      ],
      "execution_count": null,
      "outputs": []
    },
    {
      "cell_type": "code",
      "metadata": {
        "id": "hh2lCTFbO1RI"
      },
      "source": [
        "import cv2\n",
        "import numpy as np\n",
        "from keras.models import load_model\n",
        "model = tf.keras.models.load_model('mask_project.h5')\n",
        "\n",
        "results={0:'without mask',1:'mask'}\n",
        "GR_dict={0:(0,0,255),1:(0,255,0)}\n",
        "\n",
        "rect_size = 4\n",
        "cap = cv2.VideoCapture(0) \n",
        "\n",
        "\n",
        "haarcascade = cv2.CascadeClassifier('haarcascade_frontalface_default.xml')\n",
        "\n",
        "while True:\n",
        "    (rval, im) = cap.read()\n",
        "    im=cv2.flip(im,1,1) \n",
        "\n",
        "    \n",
        "    rerect_size = cv2.resize(im, (im.shape[1] // rect_size, im.shape[0] // rect_size))\n",
        "    faces = haarcascade.detectMultiScale(rerect_size)\n",
        "    for f in faces:\n",
        "        (x, y, w, h) = [v * rect_size for v in f] \n",
        "        \n",
        "        face_img = im[y:y+h, x:x+w]\n",
        "        rerect_sized=cv2.resize(face_img,(150,150))\n",
        "        normalized=rerect_sized/255.0\n",
        "        reshaped=np.reshape(normalized,(1,150,150,3))\n",
        "        reshaped = np.vstack([reshaped])\n",
        "        result=model.predict(reshaped)\n",
        "\n",
        "        \n",
        "        label=np.argmax(result,axis=1)[0]\n",
        "      \n",
        "        cv2.rectangle(im,(x,y),(x+w,y+h),GR_dict[label],2)\n",
        "        cv2.rectangle(im,(x,y-40),(x+w,y),GR_dict[label],-1)\n",
        "        cv2.putText(im, results[label], (x, y-10),cv2.FONT_HERSHEY_SIMPLEX,0.8,(255,255,255),2)\n",
        "\n",
        "    cv2.imshow('LIVE',   im)\n",
        "    key = cv2.waitKey(10)\n",
        "    \n",
        "    if key == 27: \n",
        "        break\n",
        "\n",
        "cap.release()\n",
        "\n",
        "cv2.destroyAllWindows()"
      ],
      "execution_count": null,
      "outputs": []
    },
    {
      "cell_type": "code",
      "metadata": {
        "id": "RZFe9BR4O1RI"
      },
      "source": [
        ""
      ],
      "execution_count": null,
      "outputs": []
    }
  ]
}