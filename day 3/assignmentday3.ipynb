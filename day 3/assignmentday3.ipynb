{
  "nbformat": 4,
  "nbformat_minor": 0,
  "metadata": {
    "colab": {
      "name": "assignmentday3.ipynb",
      "provenance": [],
      "collapsed_sections": []
    },
    "kernelspec": {
      "name": "python3",
      "display_name": "Python 3"
    }
  },
  "cells": [
    {
      "cell_type": "markdown",
      "metadata": {
        "id": "TiMiKjmBPmt6",
        "colab_type": "text"
      },
      "source": [
        "**Question 1** :\n",
        "Write a program to subtract two complex numbers in Python.\n"
      ]
    },
    {
      "cell_type": "code",
      "metadata": {
        "id": "kXU5H55iPoNB",
        "colab_type": "code",
        "colab": {
          "base_uri": "https://localhost:8080/",
          "height": 34
        },
        "outputId": "9c1aed92-0b1a-4f4b-d7e9-4577e3d3a113"
      },
      "source": [
        "a=complex('4+6j')\n",
        "b=complex('3-5j')\n",
        "c=a-b\n",
        "print(\"Substraction of two complex numbers c=\",c)"
      ],
      "execution_count": null,
      "outputs": [
        {
          "output_type": "stream",
          "text": [
            "Substraction of two complex numbers c= (1+11j)\n"
          ],
          "name": "stdout"
        }
      ]
    },
    {
      "cell_type": "markdown",
      "metadata": {
        "id": "lh697t6PQo0F",
        "colab_type": "text"
      },
      "source": [
        "**Question 2** :\n",
        "Write a program to find the fourth root of a number.\n"
      ]
    },
    {
      "cell_type": "code",
      "metadata": {
        "id": "jZDiWZ1vQsZz",
        "colab_type": "code",
        "colab": {
          "base_uri": "https://localhost:8080/",
          "height": 68
        },
        "outputId": "e0015d0a-51a4-4a60-9be1-86edbee74a1d"
      },
      "source": [
        "def fourthRoot(x,n=2):\n",
        "    root = x**(1/n)\n",
        "    return root\n",
        "\n",
        "x=int(input(\"enter number:\"))\n",
        "n=int(input(\"enter root number:\"))\n",
        "print(fourthRoot(x,n))\n"
      ],
      "execution_count": 38,
      "outputs": [
        {
          "output_type": "stream",
          "text": [
            "enter number:27\n",
            "enter root number:3\n",
            "3.0\n"
          ],
          "name": "stdout"
        }
      ]
    },
    {
      "cell_type": "markdown",
      "metadata": {
        "id": "aLhAngfpVfhB",
        "colab_type": "text"
      },
      "source": [
        "**Question** **3**:\n",
        "Write a program to swap two numbers in Python with the help of a temporary variable.\n"
      ]
    },
    {
      "cell_type": "code",
      "metadata": {
        "id": "MupO8AmYVoNQ",
        "colab_type": "code",
        "colab": {
          "base_uri": "https://localhost:8080/",
          "height": 51
        },
        "outputId": "1f7237e4-ef77-467a-aef0-2db3eb24bc1e"
      },
      "source": [
        "x=7\n",
        "y=23\n",
        "\n",
        "temp=x\n",
        "x=y\n",
        "y=temp\n",
        "\n",
        "print('value of x after swapping:',x)\n",
        "print('value of y after swapping:',y)"
      ],
      "execution_count": null,
      "outputs": [
        {
          "output_type": "stream",
          "text": [
            "value of x after swapping: 23\n",
            "value of y after swapping: 7\n"
          ],
          "name": "stdout"
        }
      ]
    },
    {
      "cell_type": "markdown",
      "metadata": {
        "id": "jXW91wIBuIcV",
        "colab_type": "text"
      },
      "source": [
        "**Question 4:**\n",
        "Write a program to swap two numbers in Python without using a temporary variable."
      ]
    },
    {
      "cell_type": "code",
      "metadata": {
        "id": "fxZMJHyXuO6e",
        "colab_type": "code",
        "colab": {
          "base_uri": "https://localhost:8080/",
          "height": 34
        },
        "outputId": "7c2841c4-83ea-4daa-ffee-134556e8196a"
      },
      "source": [
        "a = 15\n",
        "b = 10\n",
        "   \n",
        "a = a + b \n",
        "b = a - b  \n",
        "  \n",
        "a = a - b   \n",
        "print(\"After Swapping: a =\", a, \" b =\", b); "
      ],
      "execution_count": 42,
      "outputs": [
        {
          "output_type": "stream",
          "text": [
            "After Swapping: a = 10  b = 15\n"
          ],
          "name": "stdout"
        }
      ]
    },
    {
      "cell_type": "markdown",
      "metadata": {
        "id": "5DSu2jq3Xflv",
        "colab_type": "text"
      },
      "source": [
        "**Question** **5**:\n",
        "Write a program to convert fahrenheit to kelvin and celsius both.\n"
      ]
    },
    {
      "cell_type": "code",
      "metadata": {
        "id": "VBhrlquFX2sy",
        "colab_type": "code",
        "colab": {
          "base_uri": "https://localhost:8080/",
          "height": 68
        },
        "outputId": "1e1d10da-1fb0-4c59-860b-917efd99d7db"
      },
      "source": [
        "def Fahrenheit_to_Kelvin(F): \n",
        "    return 273.5 + ((F - 32.0) * (5.0/9.0)) \n",
        "  \n",
        " \n",
        "F = 200\n",
        "print(\"Temperature in Kelvin ( K ) = {:.3f}\".format(Fahrenheit_to_Kelvin( F ))) \n",
        "\n",
        "# fahrenheit to celsius\n",
        "def Fahrenheit_to_Celsius(C):\n",
        "    celsius = (fahrenheit - 32) * 5/9\n",
        "\n",
        "fahrenheit = float(input(\"Enter temperature in fahrenheit: \"))\n",
        "print('%.2f Fahrenheit is: %0.2f Celsius' %(fahrenheit, celsius))\n"
      ],
      "execution_count": 46,
      "outputs": [
        {
          "output_type": "stream",
          "text": [
            "Temperature in Kelvin ( K ) = 366.833\n",
            "Enter temperature in fahrenheit: 200\n",
            "200.00 Fahrenheit is: 37.78 Celsius\n"
          ],
          "name": "stdout"
        }
      ]
    },
    {
      "cell_type": "markdown",
      "metadata": {
        "id": "54hIcLgzZjdR",
        "colab_type": "text"
      },
      "source": [
        "**Question** **6**:\n",
        "Write a program to demonstrate all the available data types in Python. Hint: Use type() function."
      ]
    },
    {
      "cell_type": "code",
      "metadata": {
        "id": "UCxNJTtzaDB7",
        "colab_type": "code",
        "colab": {
          "base_uri": "https://localhost:8080/",
          "height": 68
        },
        "outputId": "ffcdf5d3-a14d-4037-8ede-4a4412f9a8bf"
      },
      "source": [
        "\n",
        "a = 5\n",
        "print(a, \"is of type\", type(a))\n",
        "\n",
        "b = 2.0\n",
        "print(b, \"is of type\", type(b))\n",
        "\n",
        "x = 1+2j\n",
        "print(x,\"is type of\",type(x))\n",
        "\n"
      ],
      "execution_count": null,
      "outputs": [
        {
          "output_type": "stream",
          "text": [
            "5 is of type <class 'int'>\n",
            "2.0 is of type <class 'float'>\n",
            "(1+2j) is type of <class 'complex'>\n"
          ],
          "name": "stdout"
        }
      ]
    },
    {
      "cell_type": "markdown",
      "metadata": {
        "id": "Bi1OzCgkcjwy",
        "colab_type": "text"
      },
      "source": [
        "**Question** **7**:\n",
        "Create a Markdown cell in jupyter and list the steps discussed in the session by Dr. Darshan\n",
        "Ingle sir to create Github profile and upload Githubs Assignment link."
      ]
    },
    {
      "cell_type": "markdown",
      "metadata": {
        "id": "qU2pbml0w4eU",
        "colab_type": "text"
      },
      "source": [
        "#Create a new account in github.\n",
        "#Create a github public Repository name and name it as letsupgrade AI/ML and write assignment in description and create the new repository.\n",
        "\n",
        "#Go to created Repository. \n",
        "#Then click on uploading an existing file and upload the files in repository in github.\n",
        "#Copy URL of folder of that day and paste or drag the file in assignment submission form."
      ]
    }
  ]
}