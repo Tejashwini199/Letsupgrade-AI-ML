{
  "nbformat": 4,
  "nbformat_minor": 0,
  "metadata": {
    "colab": {
      "name": "AssignmentDay5.ipynb",
      "provenance": [],
      "collapsed_sections": []
    },
    "kernelspec": {
      "name": "python3",
      "display_name": "Python 3"
    }
  },
  "cells": [
    {
      "cell_type": "markdown",
      "metadata": {
        "id": "MXezxi8-Ius0",
        "colab_type": "text"
      },
      "source": [
        "**Question** **1**: \n",
        "Write a Python program to find the first 20 non-even prime natural numbers.\n"
      ]
    },
    {
      "cell_type": "code",
      "metadata": {
        "id": "cH6j5qCLI7_8",
        "colab_type": "code",
        "colab": {
          "base_uri": "https://localhost:8080/",
          "height": 255
        },
        "outputId": "b37d5679-e7d9-472b-acbe-df3dc52a1b70"
      },
      "source": [
        "nums=int(input(\"enter the limit for non even prime numbers:\"))\n",
        "x=0\n",
        "num=0\n",
        "while x!=nums:\n",
        "      if num>1:\n",
        "          for i in range(2,num):\n",
        "              if(num%i)==0:\n",
        "                  break\n",
        "          else:\n",
        "              if num%2!=0:\n",
        "                  print(f\"{x+1}.{num} is a prime number\")\n",
        "                  x=x+1\n",
        "      num=num+1"
      ],
      "execution_count": 4,
      "outputs": [
        {
          "output_type": "stream",
          "text": [
            "enter the limit for non even prime numbers:13\n",
            "1.3 is a prime number\n",
            "2.5 is a prime number\n",
            "3.7 is a prime number\n",
            "4.11 is a prime number\n",
            "5.13 is a prime number\n",
            "6.17 is a prime number\n",
            "7.19 is a prime number\n",
            "8.23 is a prime number\n",
            "9.29 is a prime number\n",
            "10.31 is a prime number\n",
            "11.37 is a prime number\n",
            "12.41 is a prime number\n",
            "13.43 is a prime number\n"
          ],
          "name": "stdout"
        }
      ]
    },
    {
      "cell_type": "markdown",
      "metadata": {
        "id": "kMSAim1_KgJ2",
        "colab_type": "text"
      },
      "source": [
        "**Question** **2** :\n",
        "Write a Python program to implement 15 functions of string."
      ]
    },
    {
      "cell_type": "code",
      "metadata": {
        "id": "UU4786jkLLvm",
        "colab_type": "code",
        "colab": {
          "base_uri": "https://localhost:8080/",
          "height": 340
        },
        "outputId": "e695e37a-51cd-4c9a-a51a-038852d9bcdc"
      },
      "source": [
        "def function():\n",
        "    print(\"hello:/n\")\n",
        "    user_string=\"biscuit\"\n",
        "    if user_string.isalnum():\n",
        "        print(user_string,':the string is alphanumeric.\\n')\n",
        "\n",
        "    user_string=\"2010\"\n",
        "    if user_string.isdigit():\n",
        "        print(user_string,':the string contains only digits.\\n') \n",
        "\n",
        "    user_string=\"rose\"\n",
        "    if user_string.isalpha():\n",
        "        print(user_string,':the string contains only alphabetic characters.\\n') \n",
        "\n",
        "    user_string=\"  \"\n",
        "    if user_string.isspace():\n",
        "        print(user_string,':the string contains only whitespace characters.\\n')\n",
        "\n",
        "    user_string=\"CHOCOLATE\"\n",
        "    if user_string.isupper():\n",
        "        print(user_string,':all letters in string are uppercase.\\n') \n",
        "\n",
        "    user_string=\"cookies\"\n",
        "    toLower=user_string.lower()\n",
        "    print(user_string,':convert string in lowercase:',toLower,'\\n') \n",
        "\n",
        "    toUpper=user_string.upper()\n",
        "    print(user_string,':convert string in uppercase:',toUpper,'\\n') \n",
        "\n",
        "    user_string=\"laptop\"\n",
        "    print('\\nLeft strip with charac A:',user_string.lstrip('A'))\n",
        "\n",
        "    user_string=\"Tejashwini\"\n",
        "    print('\\nRight strip with charac A:',user_string.rstrip('A'))\n",
        "\n",
        "function()\n",
        "\n",
        "\n",
        "  \n",
        "  \n",
        "  \n",
        "\n"
      ],
      "execution_count": 14,
      "outputs": [
        {
          "output_type": "stream",
          "text": [
            "hello:/n\n",
            "biscuit :the string is alphanumeric.\n",
            "\n",
            "2010 :the string contains only digits.\n",
            "\n",
            "rose :the string contains only alphabetic characters.\n",
            "\n",
            "   :the string contains only whitespace characters.\n",
            "\n",
            "CHOCOLATE :all letters in string are uppercase.\n",
            "\n",
            "cookies :convert string in lowercase: cookies \n",
            "\n",
            "cookies :convert string in uppercase: COOKIES \n",
            "\n",
            "\n",
            "Left strip with charac A: laptop\n",
            "\n",
            "Right strip with charac A: Tejashwini\n"
          ],
          "name": "stdout"
        }
      ]
    },
    {
      "cell_type": "markdown",
      "metadata": {
        "id": "pXN6SuhoQq-q",
        "colab_type": "text"
      },
      "source": [
        "**Question** **3**:\n",
        "Write a Python program to check if the given string is a Palindrome or Anagram or None of them.\n",
        "Display the message accordingly to the user."
      ]
    },
    {
      "cell_type": "code",
      "metadata": {
        "id": "oLkmOPDgQxZu",
        "colab_type": "code",
        "colab": {
          "base_uri": "https://localhost:8080/",
          "height": 153
        },
        "outputId": "2f61b4a4-b02b-4249-8f2e-42f9f849f3e5"
      },
      "source": [
        "user_ask=input(\"whats your choice \\n 1.palindrome \\n 2.Anagram \\n\")\n",
        "user_response=int(user_ask)\n",
        "if user_response == 1:\n",
        "    print(\"you choose pallindrome!\")\n",
        "    user_string=input(\"enter string:\")\n",
        "    if user_string==user_string[::-1]:\n",
        "        print(\"Enter string in pallindrome\")\n",
        "    else:\n",
        "        print(\"Enter string is not pallindrome\")\n",
        "elif user_response == 2:\n",
        "      print(\"you choose Anagram\")\n",
        "      user_string1=input(\"enter the 1st string:\")\n",
        "      user_string2=input(\"enter the 2nd string:\")\n",
        "      if sorted(user_string1)==sorted(user_string2):\n",
        "          print(user_string1,\"and\",user_string2,\"are not anagram to each other\")\n",
        "      else:\n",
        "          print(user_string1,\"and\",user_string2,\"are  anagram to each other\")\n",
        "else:\n",
        "    print(\"wrong input given by user\")\n"
      ],
      "execution_count": 31,
      "outputs": [
        {
          "output_type": "stream",
          "text": [
            "whats your choice \n",
            " 1.palindrome \n",
            " 2.Anagram \n",
            "2\n",
            "you choose Anagram\n",
            "enter the 1st string:biscuit\n",
            "enter the 2nd string:chocolate\n",
            "biscuit and chocolate are  anagram to each other\n"
          ],
          "name": "stdout"
        }
      ]
    },
    {
      "cell_type": "markdown",
      "metadata": {
        "id": "KkP7X1PoXnjN",
        "colab_type": "text"
      },
      "source": [
        "**Question** **4**:\n",
        "Write a Python's user defined function that removes all the additional characters from the string\n",
        "and converts it finally to lower case using built-in lower(). eg: If the string is \"Dr. Darshan Ingle\n",
        "@AI-ML Trainer\", then the output be \"drdarshaningleaimltrainer\"."
      ]
    },
    {
      "cell_type": "code",
      "metadata": {
        "id": "4IiLSxg4Xy5S",
        "colab_type": "code",
        "colab": {
          "base_uri": "https://localhost:8080/",
          "height": 68
        },
        "outputId": "d220daa9-dc6d-4ebe-c838-2381d5fdcafc"
      },
      "source": [
        "def replace_the_char(x):\n",
        "    invalid_lst=[\"!\", \"@\", \",\", \"-\", \"_\", \"%\", \"#\", \".\"]\n",
        "    for i in invalid_lst:\n",
        "        x=x.replace(i,\"\")\n",
        "        x=x.lower()\n",
        "\n",
        "    print(\"-----remove all special charac from string--\")\n",
        "    print(\"the result of the string is:\",x)\n",
        "\n",
        "string=\"Dr.Darshan Ingale @AI-ML Trainer\"\n",
        "print(\"string is:\",string)\n",
        "replace_the_char(string)"
      ],
      "execution_count": 25,
      "outputs": [
        {
          "output_type": "stream",
          "text": [
            "string is: Dr.Darshan Ingale @AI-ML Trainer\n",
            "-----remove all special charac from string--\n",
            "the result of the string is: drdarshan ingale aiml trainer\n"
          ],
          "name": "stdout"
        }
      ]
    }
  ]
}