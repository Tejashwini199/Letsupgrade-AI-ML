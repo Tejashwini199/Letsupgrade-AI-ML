{
  "nbformat": 4,
  "nbformat_minor": 0,
  "metadata": {
    "colab": {
      "name": "Assignment_day_12.ipynb",
      "provenance": []
    },
    "kernelspec": {
      "name": "python3",
      "display_name": "Python 3"
    }
  },
  "cells": [
    {
      "cell_type": "markdown",
      "metadata": {
        "id": "R_F1INsODUx0",
        "colab_type": "text"
      },
      "source": [
        "#Day 12:\n",
        "\n",
        "Question:\n",
        "\n",
        "Based on the lecture and the tests you learnt, perform the appropriate test according to you\n",
        "on the dataset of Company XYZ and give a short inference based on the p value and\n",
        "hypothesis.\n",
        "Dataset: Same as given on day 7 of Company XYZ of attrition"
      ]
    },
    {
      "cell_type": "code",
      "metadata": {
        "id": "oeisFe8n7KiH",
        "colab_type": "code",
        "colab": {}
      },
      "source": [
        "import pandas as pd\n",
        "from scipy.stats import pearsonr, chi2_contingency, wilcoxon, friedmanchisquare, mannwhitneyu\n",
        "from scipy.stats import kruskal, ttest_1samp, ttest_rel, ttest_ind"
      ],
      "execution_count": 37,
      "outputs": []
    },
    {
      "cell_type": "code",
      "metadata": {
        "id": "Uc_kTYQk7fk8",
        "colab_type": "code",
        "colab": {}
      },
      "source": [
        "data=pd.read_csv('general_data.csv')"
      ],
      "execution_count": 2,
      "outputs": []
    },
    {
      "cell_type": "code",
      "metadata": {
        "id": "nYeRVaM57odp",
        "colab_type": "code",
        "colab": {
          "base_uri": "https://localhost:8080/",
          "height": 309
        },
        "outputId": "275c96e3-5db6-4a64-a607-640b629ba260"
      },
      "source": [
        "data.head()"
      ],
      "execution_count": 3,
      "outputs": [
        {
          "output_type": "execute_result",
          "data": {
            "text/html": [
              "<div>\n",
              "<style scoped>\n",
              "    .dataframe tbody tr th:only-of-type {\n",
              "        vertical-align: middle;\n",
              "    }\n",
              "\n",
              "    .dataframe tbody tr th {\n",
              "        vertical-align: top;\n",
              "    }\n",
              "\n",
              "    .dataframe thead th {\n",
              "        text-align: right;\n",
              "    }\n",
              "</style>\n",
              "<table border=\"1\" class=\"dataframe\">\n",
              "  <thead>\n",
              "    <tr style=\"text-align: right;\">\n",
              "      <th></th>\n",
              "      <th>Age</th>\n",
              "      <th>Attrition</th>\n",
              "      <th>BusinessTravel</th>\n",
              "      <th>Department</th>\n",
              "      <th>DistanceFromHome</th>\n",
              "      <th>Education</th>\n",
              "      <th>EducationField</th>\n",
              "      <th>EmployeeCount</th>\n",
              "      <th>EmployeeID</th>\n",
              "      <th>Gender</th>\n",
              "      <th>JobLevel</th>\n",
              "      <th>JobRole</th>\n",
              "      <th>MaritalStatus</th>\n",
              "      <th>MonthlyIncome</th>\n",
              "      <th>NumCompaniesWorked</th>\n",
              "      <th>Over18</th>\n",
              "      <th>PercentSalaryHike</th>\n",
              "      <th>StandardHours</th>\n",
              "      <th>StockOptionLevel</th>\n",
              "      <th>TotalWorkingYears</th>\n",
              "      <th>TrainingTimesLastYear</th>\n",
              "      <th>YearsAtCompany</th>\n",
              "      <th>YearsSinceLastPromotion</th>\n",
              "      <th>YearsWithCurrManager</th>\n",
              "    </tr>\n",
              "  </thead>\n",
              "  <tbody>\n",
              "    <tr>\n",
              "      <th>0</th>\n",
              "      <td>51</td>\n",
              "      <td>No</td>\n",
              "      <td>Travel_Rarely</td>\n",
              "      <td>Sales</td>\n",
              "      <td>6</td>\n",
              "      <td>2</td>\n",
              "      <td>Life Sciences</td>\n",
              "      <td>1</td>\n",
              "      <td>1</td>\n",
              "      <td>Female</td>\n",
              "      <td>1</td>\n",
              "      <td>Healthcare Representative</td>\n",
              "      <td>Married</td>\n",
              "      <td>131160</td>\n",
              "      <td>1.0</td>\n",
              "      <td>Y</td>\n",
              "      <td>11</td>\n",
              "      <td>8</td>\n",
              "      <td>0</td>\n",
              "      <td>1.0</td>\n",
              "      <td>6</td>\n",
              "      <td>1</td>\n",
              "      <td>0</td>\n",
              "      <td>0</td>\n",
              "    </tr>\n",
              "    <tr>\n",
              "      <th>1</th>\n",
              "      <td>31</td>\n",
              "      <td>Yes</td>\n",
              "      <td>Travel_Frequently</td>\n",
              "      <td>Research &amp; Development</td>\n",
              "      <td>10</td>\n",
              "      <td>1</td>\n",
              "      <td>Life Sciences</td>\n",
              "      <td>1</td>\n",
              "      <td>2</td>\n",
              "      <td>Female</td>\n",
              "      <td>1</td>\n",
              "      <td>Research Scientist</td>\n",
              "      <td>Single</td>\n",
              "      <td>41890</td>\n",
              "      <td>0.0</td>\n",
              "      <td>Y</td>\n",
              "      <td>23</td>\n",
              "      <td>8</td>\n",
              "      <td>1</td>\n",
              "      <td>6.0</td>\n",
              "      <td>3</td>\n",
              "      <td>5</td>\n",
              "      <td>1</td>\n",
              "      <td>4</td>\n",
              "    </tr>\n",
              "    <tr>\n",
              "      <th>2</th>\n",
              "      <td>32</td>\n",
              "      <td>No</td>\n",
              "      <td>Travel_Frequently</td>\n",
              "      <td>Research &amp; Development</td>\n",
              "      <td>17</td>\n",
              "      <td>4</td>\n",
              "      <td>Other</td>\n",
              "      <td>1</td>\n",
              "      <td>3</td>\n",
              "      <td>Male</td>\n",
              "      <td>4</td>\n",
              "      <td>Sales Executive</td>\n",
              "      <td>Married</td>\n",
              "      <td>193280</td>\n",
              "      <td>1.0</td>\n",
              "      <td>Y</td>\n",
              "      <td>15</td>\n",
              "      <td>8</td>\n",
              "      <td>3</td>\n",
              "      <td>5.0</td>\n",
              "      <td>2</td>\n",
              "      <td>5</td>\n",
              "      <td>0</td>\n",
              "      <td>3</td>\n",
              "    </tr>\n",
              "    <tr>\n",
              "      <th>3</th>\n",
              "      <td>38</td>\n",
              "      <td>No</td>\n",
              "      <td>Non-Travel</td>\n",
              "      <td>Research &amp; Development</td>\n",
              "      <td>2</td>\n",
              "      <td>5</td>\n",
              "      <td>Life Sciences</td>\n",
              "      <td>1</td>\n",
              "      <td>4</td>\n",
              "      <td>Male</td>\n",
              "      <td>3</td>\n",
              "      <td>Human Resources</td>\n",
              "      <td>Married</td>\n",
              "      <td>83210</td>\n",
              "      <td>3.0</td>\n",
              "      <td>Y</td>\n",
              "      <td>11</td>\n",
              "      <td>8</td>\n",
              "      <td>3</td>\n",
              "      <td>13.0</td>\n",
              "      <td>5</td>\n",
              "      <td>8</td>\n",
              "      <td>7</td>\n",
              "      <td>5</td>\n",
              "    </tr>\n",
              "    <tr>\n",
              "      <th>4</th>\n",
              "      <td>32</td>\n",
              "      <td>No</td>\n",
              "      <td>Travel_Rarely</td>\n",
              "      <td>Research &amp; Development</td>\n",
              "      <td>10</td>\n",
              "      <td>1</td>\n",
              "      <td>Medical</td>\n",
              "      <td>1</td>\n",
              "      <td>5</td>\n",
              "      <td>Male</td>\n",
              "      <td>1</td>\n",
              "      <td>Sales Executive</td>\n",
              "      <td>Single</td>\n",
              "      <td>23420</td>\n",
              "      <td>4.0</td>\n",
              "      <td>Y</td>\n",
              "      <td>12</td>\n",
              "      <td>8</td>\n",
              "      <td>2</td>\n",
              "      <td>9.0</td>\n",
              "      <td>2</td>\n",
              "      <td>6</td>\n",
              "      <td>0</td>\n",
              "      <td>4</td>\n",
              "    </tr>\n",
              "  </tbody>\n",
              "</table>\n",
              "</div>"
            ],
            "text/plain": [
              "   Age Attrition  ... YearsSinceLastPromotion YearsWithCurrManager\n",
              "0   51        No  ...                       0                    0\n",
              "1   31       Yes  ...                       1                    4\n",
              "2   32        No  ...                       0                    3\n",
              "3   38        No  ...                       7                    5\n",
              "4   32        No  ...                       0                    4\n",
              "\n",
              "[5 rows x 24 columns]"
            ]
          },
          "metadata": {
            "tags": []
          },
          "execution_count": 3
        }
      ]
    },
    {
      "cell_type": "code",
      "metadata": {
        "id": "MLCQvmUY70CS",
        "colab_type": "code",
        "colab": {}
      },
      "source": [
        "data.Attrition = data.Attrition.replace(['Yes','No'],[0,1])"
      ],
      "execution_count": 4,
      "outputs": []
    },
    {
      "cell_type": "code",
      "metadata": {
        "id": "ys6jNTmaBFSn",
        "colab_type": "code",
        "colab": {}
      },
      "source": [
        "from scipy.stats import mannwhitneyu"
      ],
      "execution_count": 28,
      "outputs": []
    },
    {
      "cell_type": "markdown",
      "metadata": {
        "id": "k4QlA9D8BZW7",
        "colab_type": "text"
      },
      "source": [
        "H0: There is no significant difference in the mean age of Employees who have leaved the company and stayed in company\n",
        "\n",
        "H1: There is significant difference in the mean age of Employees who have leaved the company and stayed in company"
      ]
    },
    {
      "cell_type": "code",
      "metadata": {
        "id": "2i1RbUwIBfas",
        "colab_type": "code",
        "colab": {}
      },
      "source": [
        "from scipy.stats import ttest_ind"
      ],
      "execution_count": 29,
      "outputs": []
    },
    {
      "cell_type": "code",
      "metadata": {
        "id": "Ub5EMHZdBs05",
        "colab_type": "code",
        "colab": {
          "base_uri": "https://localhost:8080/",
          "height": 34
        },
        "outputId": "3b36abb1-fe55-48d1-d221-3c6f8a062870"
      },
      "source": [
        "ttest_ind(data.Attrition,data.Attrition)"
      ],
      "execution_count": 36,
      "outputs": [
        {
          "output_type": "execute_result",
          "data": {
            "text/plain": [
              "Ttest_indResult(statistic=0.0, pvalue=1.0)"
            ]
          },
          "metadata": {
            "tags": []
          },
          "execution_count": 36
        }
      ]
    },
    {
      "cell_type": "markdown",
      "metadata": {
        "id": "uBg0zSTCCwCM",
        "colab_type": "text"
      },
      "source": [
        "As pvalue is less 0.05 we have to reject null hypothesis and accept alternative hypothesis that there is significant difference in the Attrition who have leaved the company and stayed in the company"
      ]
    },
    {
      "cell_type": "code",
      "metadata": {
        "id": "J5dzaH9u8RxH",
        "colab_type": "code",
        "colab": {}
      },
      "source": [
        "data1 = data[['Attrition','Age','DistanceFromHome','Education','JobLevel','MonthlyIncome','PercentSalaryHike','StandardHours','StockOptionLevel','TrainingTimesLastYear','YearsAtCompany','YearsSinceLastPromotion','YearsWithCurrManager']]"
      ],
      "execution_count": 8,
      "outputs": []
    },
    {
      "cell_type": "code",
      "metadata": {
        "id": "hSF6CpEv8hkC",
        "colab_type": "code",
        "colab": {}
      },
      "source": [
        "data2 = data1[['Age','DistanceFromHome','Education','JobLevel','MonthlyIncome','PercentSalaryHike','StandardHours','StockOptionLevel','TrainingTimesLastYear','YearsAtCompany','YearsSinceLastPromotion','YearsWithCurrManager']]"
      ],
      "execution_count": 9,
      "outputs": []
    },
    {
      "cell_type": "code",
      "metadata": {
        "id": "ERLwRo6l8qEg",
        "colab_type": "code",
        "colab": {
          "base_uri": "https://localhost:8080/",
          "height": 714
        },
        "outputId": "c20bf766-fd7f-4502-e8af-c32a951f8a31"
      },
      "source": [
        "display(data1.info())\n",
        "display(data2.info())"
      ],
      "execution_count": 10,
      "outputs": [
        {
          "output_type": "stream",
          "text": [
            "<class 'pandas.core.frame.DataFrame'>\n",
            "RangeIndex: 4410 entries, 0 to 4409\n",
            "Data columns (total 13 columns):\n",
            " #   Column                   Non-Null Count  Dtype\n",
            "---  ------                   --------------  -----\n",
            " 0   Attrition                4410 non-null   int64\n",
            " 1   Age                      4410 non-null   int64\n",
            " 2   DistanceFromHome         4410 non-null   int64\n",
            " 3   Education                4410 non-null   int64\n",
            " 4   JobLevel                 4410 non-null   int64\n",
            " 5   MonthlyIncome            4410 non-null   int64\n",
            " 6   PercentSalaryHike        4410 non-null   int64\n",
            " 7   StandardHours            4410 non-null   int64\n",
            " 8   StockOptionLevel         4410 non-null   int64\n",
            " 9   TrainingTimesLastYear    4410 non-null   int64\n",
            " 10  YearsAtCompany           4410 non-null   int64\n",
            " 11  YearsSinceLastPromotion  4410 non-null   int64\n",
            " 12  YearsWithCurrManager     4410 non-null   int64\n",
            "dtypes: int64(13)\n",
            "memory usage: 448.0 KB\n"
          ],
          "name": "stdout"
        },
        {
          "output_type": "display_data",
          "data": {
            "text/plain": [
              "None"
            ]
          },
          "metadata": {
            "tags": []
          }
        },
        {
          "output_type": "stream",
          "text": [
            "<class 'pandas.core.frame.DataFrame'>\n",
            "RangeIndex: 4410 entries, 0 to 4409\n",
            "Data columns (total 12 columns):\n",
            " #   Column                   Non-Null Count  Dtype\n",
            "---  ------                   --------------  -----\n",
            " 0   Age                      4410 non-null   int64\n",
            " 1   DistanceFromHome         4410 non-null   int64\n",
            " 2   Education                4410 non-null   int64\n",
            " 3   JobLevel                 4410 non-null   int64\n",
            " 4   MonthlyIncome            4410 non-null   int64\n",
            " 5   PercentSalaryHike        4410 non-null   int64\n",
            " 6   StandardHours            4410 non-null   int64\n",
            " 7   StockOptionLevel         4410 non-null   int64\n",
            " 8   TrainingTimesLastYear    4410 non-null   int64\n",
            " 9   YearsAtCompany           4410 non-null   int64\n",
            " 10  YearsSinceLastPromotion  4410 non-null   int64\n",
            " 11  YearsWithCurrManager     4410 non-null   int64\n",
            "dtypes: int64(12)\n",
            "memory usage: 413.6 KB\n"
          ],
          "name": "stdout"
        },
        {
          "output_type": "display_data",
          "data": {
            "text/plain": [
              "None"
            ]
          },
          "metadata": {
            "tags": []
          }
        }
      ]
    },
    {
      "cell_type": "code",
      "metadata": {
        "id": "Wm1vUMlS-rrd",
        "colab_type": "code",
        "colab": {
          "base_uri": "https://localhost:8080/",
          "height": 238
        },
        "outputId": "8da1122c-a418-4067-f24a-5c44da249105"
      },
      "source": [
        "mean = data2.mean()\n",
        "mean\n"
      ],
      "execution_count": 15,
      "outputs": [
        {
          "output_type": "execute_result",
          "data": {
            "text/plain": [
              "Age                           36.923810\n",
              "DistanceFromHome               9.192517\n",
              "Education                      2.912925\n",
              "JobLevel                       2.063946\n",
              "MonthlyIncome              65029.312925\n",
              "PercentSalaryHike             15.209524\n",
              "StandardHours                  8.000000\n",
              "StockOptionLevel               0.793878\n",
              "TrainingTimesLastYear          2.799320\n",
              "YearsAtCompany                 7.008163\n",
              "YearsSinceLastPromotion        2.187755\n",
              "YearsWithCurrManager           4.123129\n",
              "dtype: float64"
            ]
          },
          "metadata": {
            "tags": []
          },
          "execution_count": 15
        }
      ]
    },
    {
      "cell_type": "code",
      "metadata": {
        "id": "BczBFHhi-y9z",
        "colab_type": "code",
        "colab": {
          "base_uri": "https://localhost:8080/",
          "height": 238
        },
        "outputId": "1ffbae19-f341-4306-f658-f6a074cf4a1b"
      },
      "source": [
        "median = data2.median()\n",
        "median\n"
      ],
      "execution_count": 17,
      "outputs": [
        {
          "output_type": "execute_result",
          "data": {
            "text/plain": [
              "Age                           36.0\n",
              "DistanceFromHome               7.0\n",
              "Education                      3.0\n",
              "JobLevel                       2.0\n",
              "MonthlyIncome              49190.0\n",
              "PercentSalaryHike             14.0\n",
              "StandardHours                  8.0\n",
              "StockOptionLevel               1.0\n",
              "TrainingTimesLastYear          3.0\n",
              "YearsAtCompany                 5.0\n",
              "YearsSinceLastPromotion        1.0\n",
              "YearsWithCurrManager           3.0\n",
              "dtype: float64"
            ]
          },
          "metadata": {
            "tags": []
          },
          "execution_count": 17
        }
      ]
    },
    {
      "cell_type": "code",
      "metadata": {
        "id": "2TknCDYx_Ck7",
        "colab_type": "code",
        "colab": {
          "base_uri": "https://localhost:8080/",
          "height": 100
        },
        "outputId": "c49cb267-7b79-4f15-93d6-1ed3be96ebcf"
      },
      "source": [
        "mode = data2.mode()\n",
        "mode"
      ],
      "execution_count": 18,
      "outputs": [
        {
          "output_type": "execute_result",
          "data": {
            "text/html": [
              "<div>\n",
              "<style scoped>\n",
              "    .dataframe tbody tr th:only-of-type {\n",
              "        vertical-align: middle;\n",
              "    }\n",
              "\n",
              "    .dataframe tbody tr th {\n",
              "        vertical-align: top;\n",
              "    }\n",
              "\n",
              "    .dataframe thead th {\n",
              "        text-align: right;\n",
              "    }\n",
              "</style>\n",
              "<table border=\"1\" class=\"dataframe\">\n",
              "  <thead>\n",
              "    <tr style=\"text-align: right;\">\n",
              "      <th></th>\n",
              "      <th>Age</th>\n",
              "      <th>DistanceFromHome</th>\n",
              "      <th>Education</th>\n",
              "      <th>JobLevel</th>\n",
              "      <th>MonthlyIncome</th>\n",
              "      <th>PercentSalaryHike</th>\n",
              "      <th>StandardHours</th>\n",
              "      <th>StockOptionLevel</th>\n",
              "      <th>TrainingTimesLastYear</th>\n",
              "      <th>YearsAtCompany</th>\n",
              "      <th>YearsSinceLastPromotion</th>\n",
              "      <th>YearsWithCurrManager</th>\n",
              "    </tr>\n",
              "  </thead>\n",
              "  <tbody>\n",
              "    <tr>\n",
              "      <th>0</th>\n",
              "      <td>35</td>\n",
              "      <td>2</td>\n",
              "      <td>3</td>\n",
              "      <td>1</td>\n",
              "      <td>23420</td>\n",
              "      <td>11</td>\n",
              "      <td>8</td>\n",
              "      <td>0</td>\n",
              "      <td>2</td>\n",
              "      <td>5</td>\n",
              "      <td>0</td>\n",
              "      <td>2</td>\n",
              "    </tr>\n",
              "  </tbody>\n",
              "</table>\n",
              "</div>"
            ],
            "text/plain": [
              "   Age  DistanceFromHome  ...  YearsSinceLastPromotion  YearsWithCurrManager\n",
              "0   35                 2  ...                        0                     2\n",
              "\n",
              "[1 rows x 12 columns]"
            ]
          },
          "metadata": {
            "tags": []
          },
          "execution_count": 18
        }
      ]
    },
    {
      "cell_type": "code",
      "metadata": {
        "id": "5A7Gpoz2_Rli",
        "colab_type": "code",
        "colab": {
          "base_uri": "https://localhost:8080/",
          "height": 255
        },
        "outputId": "22bd0d8d-b23c-47c8-dcc1-fdd0a220dcd7"
      },
      "source": [
        "skew = data1.skew()\n",
        "skew"
      ],
      "execution_count": 20,
      "outputs": [
        {
          "output_type": "execute_result",
          "data": {
            "text/plain": [
              "Attrition                 -1.843111\n",
              "Age                        0.413005\n",
              "DistanceFromHome           0.957466\n",
              "Education                 -0.289484\n",
              "JobLevel                   1.024703\n",
              "MonthlyIncome              1.368884\n",
              "PercentSalaryHike          0.820569\n",
              "StandardHours              0.000000\n",
              "StockOptionLevel           0.968321\n",
              "TrainingTimesLastYear      0.552748\n",
              "YearsAtCompany             1.763328\n",
              "YearsSinceLastPromotion    1.982939\n",
              "YearsWithCurrManager       0.832884\n",
              "dtype: float64"
            ]
          },
          "metadata": {
            "tags": []
          },
          "execution_count": 20
        }
      ]
    },
    {
      "cell_type": "code",
      "metadata": {
        "id": "I5Bn-_fT_ZZp",
        "colab_type": "code",
        "colab": {
          "base_uri": "https://localhost:8080/",
          "height": 255
        },
        "outputId": "a67250df-a173-46f9-deaf-e7fcf5883a17"
      },
      "source": [
        "kurtosis = data1.kurtosis()\n",
        "kurtosis"
      ],
      "execution_count": 21,
      "outputs": [
        {
          "output_type": "execute_result",
          "data": {
            "text/plain": [
              "Attrition                  1.397690\n",
              "Age                       -0.405951\n",
              "DistanceFromHome          -0.227045\n",
              "Education                 -0.560569\n",
              "JobLevel                   0.395525\n",
              "MonthlyIncome              1.000232\n",
              "PercentSalaryHike         -0.302638\n",
              "StandardHours              0.000000\n",
              "StockOptionLevel           0.361086\n",
              "TrainingTimesLastYear      0.491149\n",
              "YearsAtCompany             3.923864\n",
              "YearsSinceLastPromotion    3.601761\n",
              "YearsWithCurrManager       0.167949\n",
              "dtype: float64"
            ]
          },
          "metadata": {
            "tags": []
          },
          "execution_count": 21
        }
      ]
    },
    {
      "cell_type": "code",
      "metadata": {
        "id": "NszFn8ii_f7c",
        "colab_type": "code",
        "colab": {
          "base_uri": "https://localhost:8080/",
          "height": 596
        },
        "outputId": "4f74e144-99f1-4b81-86fa-1cec90cf3391"
      },
      "source": [
        "correlation = data.corr()\n",
        "correlation"
      ],
      "execution_count": 22,
      "outputs": [
        {
          "output_type": "execute_result",
          "data": {
            "text/html": [
              "<div>\n",
              "<style scoped>\n",
              "    .dataframe tbody tr th:only-of-type {\n",
              "        vertical-align: middle;\n",
              "    }\n",
              "\n",
              "    .dataframe tbody tr th {\n",
              "        vertical-align: top;\n",
              "    }\n",
              "\n",
              "    .dataframe thead th {\n",
              "        text-align: right;\n",
              "    }\n",
              "</style>\n",
              "<table border=\"1\" class=\"dataframe\">\n",
              "  <thead>\n",
              "    <tr style=\"text-align: right;\">\n",
              "      <th></th>\n",
              "      <th>Age</th>\n",
              "      <th>Attrition</th>\n",
              "      <th>DistanceFromHome</th>\n",
              "      <th>Education</th>\n",
              "      <th>EmployeeCount</th>\n",
              "      <th>EmployeeID</th>\n",
              "      <th>JobLevel</th>\n",
              "      <th>MonthlyIncome</th>\n",
              "      <th>NumCompaniesWorked</th>\n",
              "      <th>PercentSalaryHike</th>\n",
              "      <th>StandardHours</th>\n",
              "      <th>StockOptionLevel</th>\n",
              "      <th>TotalWorkingYears</th>\n",
              "      <th>TrainingTimesLastYear</th>\n",
              "      <th>YearsAtCompany</th>\n",
              "      <th>YearsSinceLastPromotion</th>\n",
              "      <th>YearsWithCurrManager</th>\n",
              "    </tr>\n",
              "  </thead>\n",
              "  <tbody>\n",
              "    <tr>\n",
              "      <th>Age</th>\n",
              "      <td>1.000000</td>\n",
              "      <td>0.159205</td>\n",
              "      <td>0.006963</td>\n",
              "      <td>-0.035706</td>\n",
              "      <td>NaN</td>\n",
              "      <td>0.008649</td>\n",
              "      <td>-0.002884</td>\n",
              "      <td>-0.044314</td>\n",
              "      <td>0.299243</td>\n",
              "      <td>-0.033137</td>\n",
              "      <td>NaN</td>\n",
              "      <td>-0.031753</td>\n",
              "      <td>0.680661</td>\n",
              "      <td>-0.027308</td>\n",
              "      <td>0.311309</td>\n",
              "      <td>0.216513</td>\n",
              "      <td>0.202089</td>\n",
              "    </tr>\n",
              "    <tr>\n",
              "      <th>Attrition</th>\n",
              "      <td>0.159205</td>\n",
              "      <td>1.000000</td>\n",
              "      <td>0.009730</td>\n",
              "      <td>0.015111</td>\n",
              "      <td>NaN</td>\n",
              "      <td>0.004729</td>\n",
              "      <td>0.010290</td>\n",
              "      <td>0.031176</td>\n",
              "      <td>-0.042345</td>\n",
              "      <td>-0.032533</td>\n",
              "      <td>NaN</td>\n",
              "      <td>0.006839</td>\n",
              "      <td>0.170338</td>\n",
              "      <td>0.049431</td>\n",
              "      <td>0.134392</td>\n",
              "      <td>0.033019</td>\n",
              "      <td>0.156199</td>\n",
              "    </tr>\n",
              "    <tr>\n",
              "      <th>DistanceFromHome</th>\n",
              "      <td>0.006963</td>\n",
              "      <td>0.009730</td>\n",
              "      <td>1.000000</td>\n",
              "      <td>-0.008638</td>\n",
              "      <td>NaN</td>\n",
              "      <td>-0.001097</td>\n",
              "      <td>-0.037329</td>\n",
              "      <td>-0.021607</td>\n",
              "      <td>-0.013843</td>\n",
              "      <td>0.038125</td>\n",
              "      <td>NaN</td>\n",
              "      <td>0.011169</td>\n",
              "      <td>0.009374</td>\n",
              "      <td>-0.009001</td>\n",
              "      <td>0.031684</td>\n",
              "      <td>0.002290</td>\n",
              "      <td>0.021584</td>\n",
              "    </tr>\n",
              "    <tr>\n",
              "      <th>Education</th>\n",
              "      <td>-0.035706</td>\n",
              "      <td>0.015111</td>\n",
              "      <td>-0.008638</td>\n",
              "      <td>1.000000</td>\n",
              "      <td>NaN</td>\n",
              "      <td>-0.009680</td>\n",
              "      <td>0.045746</td>\n",
              "      <td>0.006410</td>\n",
              "      <td>-0.016250</td>\n",
              "      <td>-0.040531</td>\n",
              "      <td>NaN</td>\n",
              "      <td>0.001261</td>\n",
              "      <td>-0.010717</td>\n",
              "      <td>0.010472</td>\n",
              "      <td>0.006080</td>\n",
              "      <td>0.022490</td>\n",
              "      <td>0.005358</td>\n",
              "    </tr>\n",
              "    <tr>\n",
              "      <th>EmployeeCount</th>\n",
              "      <td>NaN</td>\n",
              "      <td>NaN</td>\n",
              "      <td>NaN</td>\n",
              "      <td>NaN</td>\n",
              "      <td>NaN</td>\n",
              "      <td>NaN</td>\n",
              "      <td>NaN</td>\n",
              "      <td>NaN</td>\n",
              "      <td>NaN</td>\n",
              "      <td>NaN</td>\n",
              "      <td>NaN</td>\n",
              "      <td>NaN</td>\n",
              "      <td>NaN</td>\n",
              "      <td>NaN</td>\n",
              "      <td>NaN</td>\n",
              "      <td>NaN</td>\n",
              "      <td>NaN</td>\n",
              "    </tr>\n",
              "    <tr>\n",
              "      <th>EmployeeID</th>\n",
              "      <td>0.008649</td>\n",
              "      <td>0.004729</td>\n",
              "      <td>-0.001097</td>\n",
              "      <td>-0.009680</td>\n",
              "      <td>NaN</td>\n",
              "      <td>1.000000</td>\n",
              "      <td>-0.003303</td>\n",
              "      <td>0.007338</td>\n",
              "      <td>-0.001117</td>\n",
              "      <td>-0.004456</td>\n",
              "      <td>NaN</td>\n",
              "      <td>-0.014254</td>\n",
              "      <td>-0.001063</td>\n",
              "      <td>-0.010191</td>\n",
              "      <td>0.004086</td>\n",
              "      <td>0.000256</td>\n",
              "      <td>0.008579</td>\n",
              "    </tr>\n",
              "    <tr>\n",
              "      <th>JobLevel</th>\n",
              "      <td>-0.002884</td>\n",
              "      <td>0.010290</td>\n",
              "      <td>-0.037329</td>\n",
              "      <td>0.045746</td>\n",
              "      <td>NaN</td>\n",
              "      <td>-0.003303</td>\n",
              "      <td>1.000000</td>\n",
              "      <td>0.047316</td>\n",
              "      <td>-0.009875</td>\n",
              "      <td>0.010973</td>\n",
              "      <td>NaN</td>\n",
              "      <td>0.000993</td>\n",
              "      <td>-0.036957</td>\n",
              "      <td>-0.032500</td>\n",
              "      <td>-0.064219</td>\n",
              "      <td>-0.060811</td>\n",
              "      <td>-0.055251</td>\n",
              "    </tr>\n",
              "    <tr>\n",
              "      <th>MonthlyIncome</th>\n",
              "      <td>-0.044314</td>\n",
              "      <td>0.031176</td>\n",
              "      <td>-0.021607</td>\n",
              "      <td>0.006410</td>\n",
              "      <td>NaN</td>\n",
              "      <td>0.007338</td>\n",
              "      <td>0.047316</td>\n",
              "      <td>1.000000</td>\n",
              "      <td>-0.020726</td>\n",
              "      <td>0.004325</td>\n",
              "      <td>NaN</td>\n",
              "      <td>0.026930</td>\n",
              "      <td>-0.033787</td>\n",
              "      <td>0.050112</td>\n",
              "      <td>0.000995</td>\n",
              "      <td>0.065219</td>\n",
              "      <td>0.024304</td>\n",
              "    </tr>\n",
              "    <tr>\n",
              "      <th>NumCompaniesWorked</th>\n",
              "      <td>0.299243</td>\n",
              "      <td>-0.042345</td>\n",
              "      <td>-0.013843</td>\n",
              "      <td>-0.016250</td>\n",
              "      <td>NaN</td>\n",
              "      <td>-0.001117</td>\n",
              "      <td>-0.009875</td>\n",
              "      <td>-0.020726</td>\n",
              "      <td>1.000000</td>\n",
              "      <td>0.030860</td>\n",
              "      <td>NaN</td>\n",
              "      <td>0.017163</td>\n",
              "      <td>0.238807</td>\n",
              "      <td>-0.032286</td>\n",
              "      <td>-0.117959</td>\n",
              "      <td>-0.036656</td>\n",
              "      <td>-0.109667</td>\n",
              "    </tr>\n",
              "    <tr>\n",
              "      <th>PercentSalaryHike</th>\n",
              "      <td>-0.033137</td>\n",
              "      <td>-0.032533</td>\n",
              "      <td>0.038125</td>\n",
              "      <td>-0.040531</td>\n",
              "      <td>NaN</td>\n",
              "      <td>-0.004456</td>\n",
              "      <td>0.010973</td>\n",
              "      <td>0.004325</td>\n",
              "      <td>0.030860</td>\n",
              "      <td>1.000000</td>\n",
              "      <td>NaN</td>\n",
              "      <td>0.012548</td>\n",
              "      <td>-0.018736</td>\n",
              "      <td>-0.037392</td>\n",
              "      <td>-0.029707</td>\n",
              "      <td>-0.029542</td>\n",
              "      <td>-0.040864</td>\n",
              "    </tr>\n",
              "    <tr>\n",
              "      <th>StandardHours</th>\n",
              "      <td>NaN</td>\n",
              "      <td>NaN</td>\n",
              "      <td>NaN</td>\n",
              "      <td>NaN</td>\n",
              "      <td>NaN</td>\n",
              "      <td>NaN</td>\n",
              "      <td>NaN</td>\n",
              "      <td>NaN</td>\n",
              "      <td>NaN</td>\n",
              "      <td>NaN</td>\n",
              "      <td>NaN</td>\n",
              "      <td>NaN</td>\n",
              "      <td>NaN</td>\n",
              "      <td>NaN</td>\n",
              "      <td>NaN</td>\n",
              "      <td>NaN</td>\n",
              "      <td>NaN</td>\n",
              "    </tr>\n",
              "    <tr>\n",
              "      <th>StockOptionLevel</th>\n",
              "      <td>-0.031753</td>\n",
              "      <td>0.006839</td>\n",
              "      <td>0.011169</td>\n",
              "      <td>0.001261</td>\n",
              "      <td>NaN</td>\n",
              "      <td>-0.014254</td>\n",
              "      <td>0.000993</td>\n",
              "      <td>0.026930</td>\n",
              "      <td>0.017163</td>\n",
              "      <td>0.012548</td>\n",
              "      <td>NaN</td>\n",
              "      <td>1.000000</td>\n",
              "      <td>0.002694</td>\n",
              "      <td>-0.069902</td>\n",
              "      <td>0.007886</td>\n",
              "      <td>0.019063</td>\n",
              "      <td>0.017757</td>\n",
              "    </tr>\n",
              "    <tr>\n",
              "      <th>TotalWorkingYears</th>\n",
              "      <td>0.680661</td>\n",
              "      <td>0.170338</td>\n",
              "      <td>0.009374</td>\n",
              "      <td>-0.010717</td>\n",
              "      <td>NaN</td>\n",
              "      <td>-0.001063</td>\n",
              "      <td>-0.036957</td>\n",
              "      <td>-0.033787</td>\n",
              "      <td>0.238807</td>\n",
              "      <td>-0.018736</td>\n",
              "      <td>NaN</td>\n",
              "      <td>0.002694</td>\n",
              "      <td>1.000000</td>\n",
              "      <td>-0.040762</td>\n",
              "      <td>0.627703</td>\n",
              "      <td>0.404444</td>\n",
              "      <td>0.458800</td>\n",
              "    </tr>\n",
              "    <tr>\n",
              "      <th>TrainingTimesLastYear</th>\n",
              "      <td>-0.027308</td>\n",
              "      <td>0.049431</td>\n",
              "      <td>-0.009001</td>\n",
              "      <td>0.010472</td>\n",
              "      <td>NaN</td>\n",
              "      <td>-0.010191</td>\n",
              "      <td>-0.032500</td>\n",
              "      <td>0.050112</td>\n",
              "      <td>-0.032286</td>\n",
              "      <td>-0.037392</td>\n",
              "      <td>NaN</td>\n",
              "      <td>-0.069902</td>\n",
              "      <td>-0.040762</td>\n",
              "      <td>1.000000</td>\n",
              "      <td>-0.007894</td>\n",
              "      <td>0.016121</td>\n",
              "      <td>-0.013270</td>\n",
              "    </tr>\n",
              "    <tr>\n",
              "      <th>YearsAtCompany</th>\n",
              "      <td>0.311309</td>\n",
              "      <td>0.134392</td>\n",
              "      <td>0.031684</td>\n",
              "      <td>0.006080</td>\n",
              "      <td>NaN</td>\n",
              "      <td>0.004086</td>\n",
              "      <td>-0.064219</td>\n",
              "      <td>0.000995</td>\n",
              "      <td>-0.117959</td>\n",
              "      <td>-0.029707</td>\n",
              "      <td>NaN</td>\n",
              "      <td>0.007886</td>\n",
              "      <td>0.627703</td>\n",
              "      <td>-0.007894</td>\n",
              "      <td>1.000000</td>\n",
              "      <td>0.618409</td>\n",
              "      <td>0.769212</td>\n",
              "    </tr>\n",
              "    <tr>\n",
              "      <th>YearsSinceLastPromotion</th>\n",
              "      <td>0.216513</td>\n",
              "      <td>0.033019</td>\n",
              "      <td>0.002290</td>\n",
              "      <td>0.022490</td>\n",
              "      <td>NaN</td>\n",
              "      <td>0.000256</td>\n",
              "      <td>-0.060811</td>\n",
              "      <td>0.065219</td>\n",
              "      <td>-0.036656</td>\n",
              "      <td>-0.029542</td>\n",
              "      <td>NaN</td>\n",
              "      <td>0.019063</td>\n",
              "      <td>0.404444</td>\n",
              "      <td>0.016121</td>\n",
              "      <td>0.618409</td>\n",
              "      <td>1.000000</td>\n",
              "      <td>0.510224</td>\n",
              "    </tr>\n",
              "    <tr>\n",
              "      <th>YearsWithCurrManager</th>\n",
              "      <td>0.202089</td>\n",
              "      <td>0.156199</td>\n",
              "      <td>0.021584</td>\n",
              "      <td>0.005358</td>\n",
              "      <td>NaN</td>\n",
              "      <td>0.008579</td>\n",
              "      <td>-0.055251</td>\n",
              "      <td>0.024304</td>\n",
              "      <td>-0.109667</td>\n",
              "      <td>-0.040864</td>\n",
              "      <td>NaN</td>\n",
              "      <td>0.017757</td>\n",
              "      <td>0.458800</td>\n",
              "      <td>-0.013270</td>\n",
              "      <td>0.769212</td>\n",
              "      <td>0.510224</td>\n",
              "      <td>1.000000</td>\n",
              "    </tr>\n",
              "  </tbody>\n",
              "</table>\n",
              "</div>"
            ],
            "text/plain": [
              "                              Age  ...  YearsWithCurrManager\n",
              "Age                      1.000000  ...              0.202089\n",
              "Attrition                0.159205  ...              0.156199\n",
              "DistanceFromHome         0.006963  ...              0.021584\n",
              "Education               -0.035706  ...              0.005358\n",
              "EmployeeCount                 NaN  ...                   NaN\n",
              "EmployeeID               0.008649  ...              0.008579\n",
              "JobLevel                -0.002884  ...             -0.055251\n",
              "MonthlyIncome           -0.044314  ...              0.024304\n",
              "NumCompaniesWorked       0.299243  ...             -0.109667\n",
              "PercentSalaryHike       -0.033137  ...             -0.040864\n",
              "StandardHours                 NaN  ...                   NaN\n",
              "StockOptionLevel        -0.031753  ...              0.017757\n",
              "TotalWorkingYears        0.680661  ...              0.458800\n",
              "TrainingTimesLastYear   -0.027308  ...             -0.013270\n",
              "YearsAtCompany           0.311309  ...              0.769212\n",
              "YearsSinceLastPromotion  0.216513  ...              0.510224\n",
              "YearsWithCurrManager     0.202089  ...              1.000000\n",
              "\n",
              "[17 rows x 17 columns]"
            ]
          },
          "metadata": {
            "tags": []
          },
          "execution_count": 22
        }
      ]
    },
    {
      "cell_type": "code",
      "metadata": {
        "id": "UKFB5grh_tW9",
        "colab_type": "code",
        "colab": {
          "base_uri": "https://localhost:8080/",
          "height": 51
        },
        "outputId": "f60236e3-50d6-4c62-b15e-029b3fffba5d"
      },
      "source": [
        "stats, p = wilcoxon(data1.Attrition, data1.Age)\n",
        "print(f'The Value of p in wilcoxon test is: {p}')\n",
        "if p < 0.05:\n",
        "    print('There is significant impact of Age on Attrition')\n",
        "else:\n",
        "    print('There is no significant impact of Age on Attrition')"
      ],
      "execution_count": 23,
      "outputs": [
        {
          "output_type": "stream",
          "text": [
            "The Value of p in wilcoxon test is: 0.0\n",
            "There is significant impact of Age on Attrition\n"
          ],
          "name": "stdout"
        }
      ]
    },
    {
      "cell_type": "code",
      "metadata": {
        "id": "OGNuu7IH_xm7",
        "colab_type": "code",
        "colab": {
          "base_uri": "https://localhost:8080/",
          "height": 51
        },
        "outputId": "dd92c306-b3c4-4435-d5a1-d69728ec445c"
      },
      "source": [
        "stats, p = friedmanchisquare(data1.Attrition, data1.Age, data1.DistanceFromHome, data1.MonthlyIncome)\n",
        "print(f'The Value of p in friedmanchisquare test is: {p}')\n",
        "if p < 0.05:\n",
        "    print('There is significant impact of Age, Distance from Home, Monthly Income on Attrition')\n",
        "else:\n",
        "    print('There is no significant impact of Age, Distance from Home, Monthly Income on Attrition')"
      ],
      "execution_count": 25,
      "outputs": [
        {
          "output_type": "stream",
          "text": [
            "The Value of p in friedmanchisquare test is: 0.0\n",
            "There is significant impact of Age, Distance from Home, Monthly Income on Attrition\n"
          ],
          "name": "stdout"
        }
      ]
    },
    {
      "cell_type": "code",
      "metadata": {
        "id": "6R8nvqwjAD4T",
        "colab_type": "code",
        "colab": {
          "base_uri": "https://localhost:8080/",
          "height": 142
        },
        "outputId": "b0cd1a6b-7f86-41a0-a503-c450cf4b2811"
      },
      "source": [
        "crosstable = pd.crosstab(data.Attrition,data.Department)\n",
        "crosstable"
      ],
      "execution_count": 26,
      "outputs": [
        {
          "output_type": "execute_result",
          "data": {
            "text/html": [
              "<div>\n",
              "<style scoped>\n",
              "    .dataframe tbody tr th:only-of-type {\n",
              "        vertical-align: middle;\n",
              "    }\n",
              "\n",
              "    .dataframe tbody tr th {\n",
              "        vertical-align: top;\n",
              "    }\n",
              "\n",
              "    .dataframe thead th {\n",
              "        text-align: right;\n",
              "    }\n",
              "</style>\n",
              "<table border=\"1\" class=\"dataframe\">\n",
              "  <thead>\n",
              "    <tr style=\"text-align: right;\">\n",
              "      <th>Department</th>\n",
              "      <th>Human Resources</th>\n",
              "      <th>Research &amp; Development</th>\n",
              "      <th>Sales</th>\n",
              "    </tr>\n",
              "    <tr>\n",
              "      <th>Attrition</th>\n",
              "      <th></th>\n",
              "      <th></th>\n",
              "      <th></th>\n",
              "    </tr>\n",
              "  </thead>\n",
              "  <tbody>\n",
              "    <tr>\n",
              "      <th>0</th>\n",
              "      <td>57</td>\n",
              "      <td>453</td>\n",
              "      <td>201</td>\n",
              "    </tr>\n",
              "    <tr>\n",
              "      <th>1</th>\n",
              "      <td>132</td>\n",
              "      <td>2430</td>\n",
              "      <td>1137</td>\n",
              "    </tr>\n",
              "  </tbody>\n",
              "</table>\n",
              "</div>"
            ],
            "text/plain": [
              "Department  Human Resources  Research & Development  Sales\n",
              "Attrition                                                 \n",
              "0                        57                     453    201\n",
              "1                       132                    2430   1137"
            ]
          },
          "metadata": {
            "tags": []
          },
          "execution_count": 26
        }
      ]
    },
    {
      "cell_type": "code",
      "metadata": {
        "id": "YryBDTWAAOsI",
        "colab_type": "code",
        "colab": {
          "base_uri": "https://localhost:8080/",
          "height": 51
        },
        "outputId": "623652e6-c963-49dd-b4de-d890b0455656"
      },
      "source": [
        "stats, p, dof, expected = chi2_contingency(crosstable)\n",
        "print(f'The Value of p in chi2_contingency test is: {p}')\n",
        "if p < 0.05:\n",
        "    print('The variables are dependent')\n",
        "else:\n",
        "    print('The variables are not dependent')"
      ],
      "execution_count": 27,
      "outputs": [
        {
          "output_type": "stream",
          "text": [
            "The Value of p in chi2_contingency test is: 4.820888218170407e-07\n",
            "The variables are dependent\n"
          ],
          "name": "stdout"
        }
      ]
    }
  ]
}